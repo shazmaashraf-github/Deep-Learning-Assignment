{
  "nbformat": 4,
  "nbformat_minor": 0,
  "metadata": {
    "colab": {
      "name": "Dl assignment.ipynb",
      "provenance": [],
      "collapsed_sections": []
    },
    "kernelspec": {
      "name": "python3",
      "display_name": "Python 3"
    },
    "language_info": {
      "name": "python"
    }
  },
  "cells": [
    {
      "cell_type": "code",
      "metadata": {
        "id": "vI-H-qCZ1VfR"
      },
      "source": [
        "import numpy as np\n",
        "import pandas as pd\n",
        "import matplotlib.pyplot as plt\n",
        "import seaborn as sns"
      ],
      "execution_count": 10,
      "outputs": []
    },
    {
      "cell_type": "code",
      "metadata": {
        "colab": {
          "base_uri": "https://localhost:8080/"
        },
        "id": "d8Rc5EYG7fvJ",
        "outputId": "1bfede74-440f-44f2-8f9f-8e53137c336f"
      },
      "source": [
        "from google.colab import drive\n",
        "drive.mount(\"/content/drive\")"
      ],
      "execution_count": 11,
      "outputs": [
        {
          "output_type": "stream",
          "text": [
            "Drive already mounted at /content/drive; to attempt to forcibly remount, call drive.mount(\"/content/drive\", force_remount=True).\n"
          ],
          "name": "stdout"
        }
      ]
    },
    {
      "cell_type": "code",
      "metadata": {
        "id": "Q41yOHhZ7o77"
      },
      "source": [
        "df = pd.read_csv(\"/content/drive/MyDrive/CarPrice_Assignment.csv\")"
      ],
      "execution_count": 12,
      "outputs": []
    },
    {
      "cell_type": "code",
      "metadata": {
        "colab": {
          "base_uri": "https://localhost:8080/",
          "height": 275
        },
        "id": "HD-CV7Gp8k0R",
        "outputId": "a67d5080-af9e-4b48-d802-00b7543834a0"
      },
      "source": [
        "df.head()"
      ],
      "execution_count": 13,
      "outputs": [
        {
          "output_type": "execute_result",
          "data": {
            "text/html": [
              "<div>\n",
              "<style scoped>\n",
              "    .dataframe tbody tr th:only-of-type {\n",
              "        vertical-align: middle;\n",
              "    }\n",
              "\n",
              "    .dataframe tbody tr th {\n",
              "        vertical-align: top;\n",
              "    }\n",
              "\n",
              "    .dataframe thead th {\n",
              "        text-align: right;\n",
              "    }\n",
              "</style>\n",
              "<table border=\"1\" class=\"dataframe\">\n",
              "  <thead>\n",
              "    <tr style=\"text-align: right;\">\n",
              "      <th></th>\n",
              "      <th>car_ID</th>\n",
              "      <th>symboling</th>\n",
              "      <th>CarName</th>\n",
              "      <th>fueltype</th>\n",
              "      <th>aspiration</th>\n",
              "      <th>doornumber</th>\n",
              "      <th>carbody</th>\n",
              "      <th>drivewheel</th>\n",
              "      <th>enginelocation</th>\n",
              "      <th>wheelbase</th>\n",
              "      <th>carlength</th>\n",
              "      <th>carwidth</th>\n",
              "      <th>carheight</th>\n",
              "      <th>curbweight</th>\n",
              "      <th>enginetype</th>\n",
              "      <th>cylindernumber</th>\n",
              "      <th>enginesize</th>\n",
              "      <th>fuelsystem</th>\n",
              "      <th>boreratio</th>\n",
              "      <th>stroke</th>\n",
              "      <th>compressionratio</th>\n",
              "      <th>horsepower</th>\n",
              "      <th>peakrpm</th>\n",
              "      <th>citympg</th>\n",
              "      <th>highwaympg</th>\n",
              "      <th>price</th>\n",
              "    </tr>\n",
              "  </thead>\n",
              "  <tbody>\n",
              "    <tr>\n",
              "      <th>0</th>\n",
              "      <td>1</td>\n",
              "      <td>3</td>\n",
              "      <td>alfa-romero giulia</td>\n",
              "      <td>gas</td>\n",
              "      <td>std</td>\n",
              "      <td>two</td>\n",
              "      <td>convertible</td>\n",
              "      <td>rwd</td>\n",
              "      <td>front</td>\n",
              "      <td>88.6</td>\n",
              "      <td>168.8</td>\n",
              "      <td>64.1</td>\n",
              "      <td>48.8</td>\n",
              "      <td>2548</td>\n",
              "      <td>dohc</td>\n",
              "      <td>four</td>\n",
              "      <td>130</td>\n",
              "      <td>mpfi</td>\n",
              "      <td>3.47</td>\n",
              "      <td>2.68</td>\n",
              "      <td>9.0</td>\n",
              "      <td>111</td>\n",
              "      <td>5000</td>\n",
              "      <td>21</td>\n",
              "      <td>27</td>\n",
              "      <td>13495.0</td>\n",
              "    </tr>\n",
              "    <tr>\n",
              "      <th>1</th>\n",
              "      <td>2</td>\n",
              "      <td>3</td>\n",
              "      <td>alfa-romero stelvio</td>\n",
              "      <td>gas</td>\n",
              "      <td>std</td>\n",
              "      <td>two</td>\n",
              "      <td>convertible</td>\n",
              "      <td>rwd</td>\n",
              "      <td>front</td>\n",
              "      <td>88.6</td>\n",
              "      <td>168.8</td>\n",
              "      <td>64.1</td>\n",
              "      <td>48.8</td>\n",
              "      <td>2548</td>\n",
              "      <td>dohc</td>\n",
              "      <td>four</td>\n",
              "      <td>130</td>\n",
              "      <td>mpfi</td>\n",
              "      <td>3.47</td>\n",
              "      <td>2.68</td>\n",
              "      <td>9.0</td>\n",
              "      <td>111</td>\n",
              "      <td>5000</td>\n",
              "      <td>21</td>\n",
              "      <td>27</td>\n",
              "      <td>16500.0</td>\n",
              "    </tr>\n",
              "    <tr>\n",
              "      <th>2</th>\n",
              "      <td>3</td>\n",
              "      <td>1</td>\n",
              "      <td>alfa-romero Quadrifoglio</td>\n",
              "      <td>gas</td>\n",
              "      <td>std</td>\n",
              "      <td>two</td>\n",
              "      <td>hatchback</td>\n",
              "      <td>rwd</td>\n",
              "      <td>front</td>\n",
              "      <td>94.5</td>\n",
              "      <td>171.2</td>\n",
              "      <td>65.5</td>\n",
              "      <td>52.4</td>\n",
              "      <td>2823</td>\n",
              "      <td>ohcv</td>\n",
              "      <td>six</td>\n",
              "      <td>152</td>\n",
              "      <td>mpfi</td>\n",
              "      <td>2.68</td>\n",
              "      <td>3.47</td>\n",
              "      <td>9.0</td>\n",
              "      <td>154</td>\n",
              "      <td>5000</td>\n",
              "      <td>19</td>\n",
              "      <td>26</td>\n",
              "      <td>16500.0</td>\n",
              "    </tr>\n",
              "    <tr>\n",
              "      <th>3</th>\n",
              "      <td>4</td>\n",
              "      <td>2</td>\n",
              "      <td>audi 100 ls</td>\n",
              "      <td>gas</td>\n",
              "      <td>std</td>\n",
              "      <td>four</td>\n",
              "      <td>sedan</td>\n",
              "      <td>fwd</td>\n",
              "      <td>front</td>\n",
              "      <td>99.8</td>\n",
              "      <td>176.6</td>\n",
              "      <td>66.2</td>\n",
              "      <td>54.3</td>\n",
              "      <td>2337</td>\n",
              "      <td>ohc</td>\n",
              "      <td>four</td>\n",
              "      <td>109</td>\n",
              "      <td>mpfi</td>\n",
              "      <td>3.19</td>\n",
              "      <td>3.40</td>\n",
              "      <td>10.0</td>\n",
              "      <td>102</td>\n",
              "      <td>5500</td>\n",
              "      <td>24</td>\n",
              "      <td>30</td>\n",
              "      <td>13950.0</td>\n",
              "    </tr>\n",
              "    <tr>\n",
              "      <th>4</th>\n",
              "      <td>5</td>\n",
              "      <td>2</td>\n",
              "      <td>audi 100ls</td>\n",
              "      <td>gas</td>\n",
              "      <td>std</td>\n",
              "      <td>four</td>\n",
              "      <td>sedan</td>\n",
              "      <td>4wd</td>\n",
              "      <td>front</td>\n",
              "      <td>99.4</td>\n",
              "      <td>176.6</td>\n",
              "      <td>66.4</td>\n",
              "      <td>54.3</td>\n",
              "      <td>2824</td>\n",
              "      <td>ohc</td>\n",
              "      <td>five</td>\n",
              "      <td>136</td>\n",
              "      <td>mpfi</td>\n",
              "      <td>3.19</td>\n",
              "      <td>3.40</td>\n",
              "      <td>8.0</td>\n",
              "      <td>115</td>\n",
              "      <td>5500</td>\n",
              "      <td>18</td>\n",
              "      <td>22</td>\n",
              "      <td>17450.0</td>\n",
              "    </tr>\n",
              "  </tbody>\n",
              "</table>\n",
              "</div>"
            ],
            "text/plain": [
              "   car_ID  symboling                   CarName  ... citympg highwaympg    price\n",
              "0       1          3        alfa-romero giulia  ...      21         27  13495.0\n",
              "1       2          3       alfa-romero stelvio  ...      21         27  16500.0\n",
              "2       3          1  alfa-romero Quadrifoglio  ...      19         26  16500.0\n",
              "3       4          2               audi 100 ls  ...      24         30  13950.0\n",
              "4       5          2                audi 100ls  ...      18         22  17450.0\n",
              "\n",
              "[5 rows x 26 columns]"
            ]
          },
          "metadata": {
            "tags": []
          },
          "execution_count": 13
        }
      ]
    },
    {
      "cell_type": "code",
      "metadata": {
        "colab": {
          "base_uri": "https://localhost:8080/",
          "height": 326
        },
        "id": "VVwFk6yN-C0o",
        "outputId": "7181457d-b249-4ede-845c-2b0d05c647f9"
      },
      "source": [
        "df.tail()"
      ],
      "execution_count": 14,
      "outputs": [
        {
          "output_type": "execute_result",
          "data": {
            "text/html": [
              "<div>\n",
              "<style scoped>\n",
              "    .dataframe tbody tr th:only-of-type {\n",
              "        vertical-align: middle;\n",
              "    }\n",
              "\n",
              "    .dataframe tbody tr th {\n",
              "        vertical-align: top;\n",
              "    }\n",
              "\n",
              "    .dataframe thead th {\n",
              "        text-align: right;\n",
              "    }\n",
              "</style>\n",
              "<table border=\"1\" class=\"dataframe\">\n",
              "  <thead>\n",
              "    <tr style=\"text-align: right;\">\n",
              "      <th></th>\n",
              "      <th>car_ID</th>\n",
              "      <th>symboling</th>\n",
              "      <th>CarName</th>\n",
              "      <th>fueltype</th>\n",
              "      <th>aspiration</th>\n",
              "      <th>doornumber</th>\n",
              "      <th>carbody</th>\n",
              "      <th>drivewheel</th>\n",
              "      <th>enginelocation</th>\n",
              "      <th>wheelbase</th>\n",
              "      <th>carlength</th>\n",
              "      <th>carwidth</th>\n",
              "      <th>carheight</th>\n",
              "      <th>curbweight</th>\n",
              "      <th>enginetype</th>\n",
              "      <th>cylindernumber</th>\n",
              "      <th>enginesize</th>\n",
              "      <th>fuelsystem</th>\n",
              "      <th>boreratio</th>\n",
              "      <th>stroke</th>\n",
              "      <th>compressionratio</th>\n",
              "      <th>horsepower</th>\n",
              "      <th>peakrpm</th>\n",
              "      <th>citympg</th>\n",
              "      <th>highwaympg</th>\n",
              "      <th>price</th>\n",
              "    </tr>\n",
              "  </thead>\n",
              "  <tbody>\n",
              "    <tr>\n",
              "      <th>200</th>\n",
              "      <td>201</td>\n",
              "      <td>-1</td>\n",
              "      <td>volvo 145e (sw)</td>\n",
              "      <td>gas</td>\n",
              "      <td>std</td>\n",
              "      <td>four</td>\n",
              "      <td>sedan</td>\n",
              "      <td>rwd</td>\n",
              "      <td>front</td>\n",
              "      <td>109.1</td>\n",
              "      <td>188.8</td>\n",
              "      <td>68.9</td>\n",
              "      <td>55.5</td>\n",
              "      <td>2952</td>\n",
              "      <td>ohc</td>\n",
              "      <td>four</td>\n",
              "      <td>141</td>\n",
              "      <td>mpfi</td>\n",
              "      <td>3.78</td>\n",
              "      <td>3.15</td>\n",
              "      <td>9.5</td>\n",
              "      <td>114</td>\n",
              "      <td>5400</td>\n",
              "      <td>23</td>\n",
              "      <td>28</td>\n",
              "      <td>16845.0</td>\n",
              "    </tr>\n",
              "    <tr>\n",
              "      <th>201</th>\n",
              "      <td>202</td>\n",
              "      <td>-1</td>\n",
              "      <td>volvo 144ea</td>\n",
              "      <td>gas</td>\n",
              "      <td>turbo</td>\n",
              "      <td>four</td>\n",
              "      <td>sedan</td>\n",
              "      <td>rwd</td>\n",
              "      <td>front</td>\n",
              "      <td>109.1</td>\n",
              "      <td>188.8</td>\n",
              "      <td>68.8</td>\n",
              "      <td>55.5</td>\n",
              "      <td>3049</td>\n",
              "      <td>ohc</td>\n",
              "      <td>four</td>\n",
              "      <td>141</td>\n",
              "      <td>mpfi</td>\n",
              "      <td>3.78</td>\n",
              "      <td>3.15</td>\n",
              "      <td>8.7</td>\n",
              "      <td>160</td>\n",
              "      <td>5300</td>\n",
              "      <td>19</td>\n",
              "      <td>25</td>\n",
              "      <td>19045.0</td>\n",
              "    </tr>\n",
              "    <tr>\n",
              "      <th>202</th>\n",
              "      <td>203</td>\n",
              "      <td>-1</td>\n",
              "      <td>volvo 244dl</td>\n",
              "      <td>gas</td>\n",
              "      <td>std</td>\n",
              "      <td>four</td>\n",
              "      <td>sedan</td>\n",
              "      <td>rwd</td>\n",
              "      <td>front</td>\n",
              "      <td>109.1</td>\n",
              "      <td>188.8</td>\n",
              "      <td>68.9</td>\n",
              "      <td>55.5</td>\n",
              "      <td>3012</td>\n",
              "      <td>ohcv</td>\n",
              "      <td>six</td>\n",
              "      <td>173</td>\n",
              "      <td>mpfi</td>\n",
              "      <td>3.58</td>\n",
              "      <td>2.87</td>\n",
              "      <td>8.8</td>\n",
              "      <td>134</td>\n",
              "      <td>5500</td>\n",
              "      <td>18</td>\n",
              "      <td>23</td>\n",
              "      <td>21485.0</td>\n",
              "    </tr>\n",
              "    <tr>\n",
              "      <th>203</th>\n",
              "      <td>204</td>\n",
              "      <td>-1</td>\n",
              "      <td>volvo 246</td>\n",
              "      <td>diesel</td>\n",
              "      <td>turbo</td>\n",
              "      <td>four</td>\n",
              "      <td>sedan</td>\n",
              "      <td>rwd</td>\n",
              "      <td>front</td>\n",
              "      <td>109.1</td>\n",
              "      <td>188.8</td>\n",
              "      <td>68.9</td>\n",
              "      <td>55.5</td>\n",
              "      <td>3217</td>\n",
              "      <td>ohc</td>\n",
              "      <td>six</td>\n",
              "      <td>145</td>\n",
              "      <td>idi</td>\n",
              "      <td>3.01</td>\n",
              "      <td>3.40</td>\n",
              "      <td>23.0</td>\n",
              "      <td>106</td>\n",
              "      <td>4800</td>\n",
              "      <td>26</td>\n",
              "      <td>27</td>\n",
              "      <td>22470.0</td>\n",
              "    </tr>\n",
              "    <tr>\n",
              "      <th>204</th>\n",
              "      <td>205</td>\n",
              "      <td>-1</td>\n",
              "      <td>volvo 264gl</td>\n",
              "      <td>gas</td>\n",
              "      <td>turbo</td>\n",
              "      <td>four</td>\n",
              "      <td>sedan</td>\n",
              "      <td>rwd</td>\n",
              "      <td>front</td>\n",
              "      <td>109.1</td>\n",
              "      <td>188.8</td>\n",
              "      <td>68.9</td>\n",
              "      <td>55.5</td>\n",
              "      <td>3062</td>\n",
              "      <td>ohc</td>\n",
              "      <td>four</td>\n",
              "      <td>141</td>\n",
              "      <td>mpfi</td>\n",
              "      <td>3.78</td>\n",
              "      <td>3.15</td>\n",
              "      <td>9.5</td>\n",
              "      <td>114</td>\n",
              "      <td>5400</td>\n",
              "      <td>19</td>\n",
              "      <td>25</td>\n",
              "      <td>22625.0</td>\n",
              "    </tr>\n",
              "  </tbody>\n",
              "</table>\n",
              "</div>"
            ],
            "text/plain": [
              "     car_ID  symboling          CarName  ... citympg highwaympg    price\n",
              "200     201         -1  volvo 145e (sw)  ...      23         28  16845.0\n",
              "201     202         -1      volvo 144ea  ...      19         25  19045.0\n",
              "202     203         -1      volvo 244dl  ...      18         23  21485.0\n",
              "203     204         -1        volvo 246  ...      26         27  22470.0\n",
              "204     205         -1      volvo 264gl  ...      19         25  22625.0\n",
              "\n",
              "[5 rows x 26 columns]"
            ]
          },
          "metadata": {
            "tags": []
          },
          "execution_count": 14
        }
      ]
    },
    {
      "cell_type": "code",
      "metadata": {
        "colab": {
          "base_uri": "https://localhost:8080/",
          "height": 213
        },
        "id": "PqSxg4B0-Sto",
        "outputId": "9bc519d0-00ff-4358-bc23-688eefce12d3"
      },
      "source": [
        "df.sample(3)"
      ],
      "execution_count": 15,
      "outputs": [
        {
          "output_type": "execute_result",
          "data": {
            "text/html": [
              "<div>\n",
              "<style scoped>\n",
              "    .dataframe tbody tr th:only-of-type {\n",
              "        vertical-align: middle;\n",
              "    }\n",
              "\n",
              "    .dataframe tbody tr th {\n",
              "        vertical-align: top;\n",
              "    }\n",
              "\n",
              "    .dataframe thead th {\n",
              "        text-align: right;\n",
              "    }\n",
              "</style>\n",
              "<table border=\"1\" class=\"dataframe\">\n",
              "  <thead>\n",
              "    <tr style=\"text-align: right;\">\n",
              "      <th></th>\n",
              "      <th>car_ID</th>\n",
              "      <th>symboling</th>\n",
              "      <th>CarName</th>\n",
              "      <th>fueltype</th>\n",
              "      <th>aspiration</th>\n",
              "      <th>doornumber</th>\n",
              "      <th>carbody</th>\n",
              "      <th>drivewheel</th>\n",
              "      <th>enginelocation</th>\n",
              "      <th>wheelbase</th>\n",
              "      <th>carlength</th>\n",
              "      <th>carwidth</th>\n",
              "      <th>carheight</th>\n",
              "      <th>curbweight</th>\n",
              "      <th>enginetype</th>\n",
              "      <th>cylindernumber</th>\n",
              "      <th>enginesize</th>\n",
              "      <th>fuelsystem</th>\n",
              "      <th>boreratio</th>\n",
              "      <th>stroke</th>\n",
              "      <th>compressionratio</th>\n",
              "      <th>horsepower</th>\n",
              "      <th>peakrpm</th>\n",
              "      <th>citympg</th>\n",
              "      <th>highwaympg</th>\n",
              "      <th>price</th>\n",
              "    </tr>\n",
              "  </thead>\n",
              "  <tbody>\n",
              "    <tr>\n",
              "      <th>116</th>\n",
              "      <td>117</td>\n",
              "      <td>0</td>\n",
              "      <td>peugeot 504</td>\n",
              "      <td>diesel</td>\n",
              "      <td>turbo</td>\n",
              "      <td>four</td>\n",
              "      <td>sedan</td>\n",
              "      <td>rwd</td>\n",
              "      <td>front</td>\n",
              "      <td>107.9</td>\n",
              "      <td>186.7</td>\n",
              "      <td>68.4</td>\n",
              "      <td>56.7</td>\n",
              "      <td>3252</td>\n",
              "      <td>l</td>\n",
              "      <td>four</td>\n",
              "      <td>152</td>\n",
              "      <td>idi</td>\n",
              "      <td>3.70</td>\n",
              "      <td>3.52</td>\n",
              "      <td>21.0</td>\n",
              "      <td>95</td>\n",
              "      <td>4150</td>\n",
              "      <td>28</td>\n",
              "      <td>33</td>\n",
              "      <td>17950.0</td>\n",
              "    </tr>\n",
              "    <tr>\n",
              "      <th>94</th>\n",
              "      <td>95</td>\n",
              "      <td>1</td>\n",
              "      <td>nissan leaf</td>\n",
              "      <td>gas</td>\n",
              "      <td>std</td>\n",
              "      <td>two</td>\n",
              "      <td>sedan</td>\n",
              "      <td>fwd</td>\n",
              "      <td>front</td>\n",
              "      <td>94.5</td>\n",
              "      <td>165.3</td>\n",
              "      <td>63.8</td>\n",
              "      <td>54.5</td>\n",
              "      <td>1951</td>\n",
              "      <td>ohc</td>\n",
              "      <td>four</td>\n",
              "      <td>97</td>\n",
              "      <td>2bbl</td>\n",
              "      <td>3.15</td>\n",
              "      <td>3.29</td>\n",
              "      <td>9.4</td>\n",
              "      <td>69</td>\n",
              "      <td>5200</td>\n",
              "      <td>31</td>\n",
              "      <td>37</td>\n",
              "      <td>7299.0</td>\n",
              "    </tr>\n",
              "    <tr>\n",
              "      <th>119</th>\n",
              "      <td>120</td>\n",
              "      <td>1</td>\n",
              "      <td>plymouth cricket</td>\n",
              "      <td>gas</td>\n",
              "      <td>turbo</td>\n",
              "      <td>two</td>\n",
              "      <td>hatchback</td>\n",
              "      <td>fwd</td>\n",
              "      <td>front</td>\n",
              "      <td>93.7</td>\n",
              "      <td>157.3</td>\n",
              "      <td>63.8</td>\n",
              "      <td>50.8</td>\n",
              "      <td>2128</td>\n",
              "      <td>ohc</td>\n",
              "      <td>four</td>\n",
              "      <td>98</td>\n",
              "      <td>spdi</td>\n",
              "      <td>3.03</td>\n",
              "      <td>3.39</td>\n",
              "      <td>7.6</td>\n",
              "      <td>102</td>\n",
              "      <td>5500</td>\n",
              "      <td>24</td>\n",
              "      <td>30</td>\n",
              "      <td>7957.0</td>\n",
              "    </tr>\n",
              "  </tbody>\n",
              "</table>\n",
              "</div>"
            ],
            "text/plain": [
              "     car_ID  symboling           CarName  ... citympg highwaympg    price\n",
              "116     117          0       peugeot 504  ...      28         33  17950.0\n",
              "94       95          1       nissan leaf  ...      31         37   7299.0\n",
              "119     120          1  plymouth cricket  ...      24         30   7957.0\n",
              "\n",
              "[3 rows x 26 columns]"
            ]
          },
          "metadata": {
            "tags": []
          },
          "execution_count": 15
        }
      ]
    },
    {
      "cell_type": "code",
      "metadata": {
        "colab": {
          "base_uri": "https://localhost:8080/"
        },
        "id": "-yzxkwpu-eiQ",
        "outputId": "0db86191-6776-44de-acd2-32b7c41c4ab7"
      },
      "source": [
        " #null values\n",
        " df.isnull().sum()"
      ],
      "execution_count": 16,
      "outputs": [
        {
          "output_type": "execute_result",
          "data": {
            "text/plain": [
              "car_ID              0\n",
              "symboling           0\n",
              "CarName             0\n",
              "fueltype            0\n",
              "aspiration          0\n",
              "doornumber          0\n",
              "carbody             0\n",
              "drivewheel          0\n",
              "enginelocation      0\n",
              "wheelbase           0\n",
              "carlength           0\n",
              "carwidth            0\n",
              "carheight           0\n",
              "curbweight          0\n",
              "enginetype          0\n",
              "cylindernumber      0\n",
              "enginesize          0\n",
              "fuelsystem          0\n",
              "boreratio           0\n",
              "stroke              0\n",
              "compressionratio    0\n",
              "horsepower          0\n",
              "peakrpm             0\n",
              "citympg             0\n",
              "highwaympg          0\n",
              "price               0\n",
              "dtype: int64"
            ]
          },
          "metadata": {
            "tags": []
          },
          "execution_count": 16
        }
      ]
    },
    {
      "cell_type": "code",
      "metadata": {
        "colab": {
          "base_uri": "https://localhost:8080/",
          "height": 317
        },
        "id": "5VcKU-2h-occ",
        "outputId": "589605a3-8604-42dd-b3b5-fafb4dfc787a"
      },
      "source": [
        " #check statistcal description\n",
        "df.describe()"
      ],
      "execution_count": 17,
      "outputs": [
        {
          "output_type": "execute_result",
          "data": {
            "text/html": [
              "<div>\n",
              "<style scoped>\n",
              "    .dataframe tbody tr th:only-of-type {\n",
              "        vertical-align: middle;\n",
              "    }\n",
              "\n",
              "    .dataframe tbody tr th {\n",
              "        vertical-align: top;\n",
              "    }\n",
              "\n",
              "    .dataframe thead th {\n",
              "        text-align: right;\n",
              "    }\n",
              "</style>\n",
              "<table border=\"1\" class=\"dataframe\">\n",
              "  <thead>\n",
              "    <tr style=\"text-align: right;\">\n",
              "      <th></th>\n",
              "      <th>car_ID</th>\n",
              "      <th>symboling</th>\n",
              "      <th>wheelbase</th>\n",
              "      <th>carlength</th>\n",
              "      <th>carwidth</th>\n",
              "      <th>carheight</th>\n",
              "      <th>curbweight</th>\n",
              "      <th>enginesize</th>\n",
              "      <th>boreratio</th>\n",
              "      <th>stroke</th>\n",
              "      <th>compressionratio</th>\n",
              "      <th>horsepower</th>\n",
              "      <th>peakrpm</th>\n",
              "      <th>citympg</th>\n",
              "      <th>highwaympg</th>\n",
              "      <th>price</th>\n",
              "    </tr>\n",
              "  </thead>\n",
              "  <tbody>\n",
              "    <tr>\n",
              "      <th>count</th>\n",
              "      <td>205.000000</td>\n",
              "      <td>205.000000</td>\n",
              "      <td>205.000000</td>\n",
              "      <td>205.000000</td>\n",
              "      <td>205.000000</td>\n",
              "      <td>205.000000</td>\n",
              "      <td>205.000000</td>\n",
              "      <td>205.000000</td>\n",
              "      <td>205.000000</td>\n",
              "      <td>205.000000</td>\n",
              "      <td>205.000000</td>\n",
              "      <td>205.000000</td>\n",
              "      <td>205.000000</td>\n",
              "      <td>205.000000</td>\n",
              "      <td>205.000000</td>\n",
              "      <td>205.000000</td>\n",
              "    </tr>\n",
              "    <tr>\n",
              "      <th>mean</th>\n",
              "      <td>103.000000</td>\n",
              "      <td>0.834146</td>\n",
              "      <td>98.756585</td>\n",
              "      <td>174.049268</td>\n",
              "      <td>65.907805</td>\n",
              "      <td>53.724878</td>\n",
              "      <td>2555.565854</td>\n",
              "      <td>126.907317</td>\n",
              "      <td>3.329756</td>\n",
              "      <td>3.255415</td>\n",
              "      <td>10.142537</td>\n",
              "      <td>104.117073</td>\n",
              "      <td>5125.121951</td>\n",
              "      <td>25.219512</td>\n",
              "      <td>30.751220</td>\n",
              "      <td>13276.710571</td>\n",
              "    </tr>\n",
              "    <tr>\n",
              "      <th>std</th>\n",
              "      <td>59.322565</td>\n",
              "      <td>1.245307</td>\n",
              "      <td>6.021776</td>\n",
              "      <td>12.337289</td>\n",
              "      <td>2.145204</td>\n",
              "      <td>2.443522</td>\n",
              "      <td>520.680204</td>\n",
              "      <td>41.642693</td>\n",
              "      <td>0.270844</td>\n",
              "      <td>0.313597</td>\n",
              "      <td>3.972040</td>\n",
              "      <td>39.544167</td>\n",
              "      <td>476.985643</td>\n",
              "      <td>6.542142</td>\n",
              "      <td>6.886443</td>\n",
              "      <td>7988.852332</td>\n",
              "    </tr>\n",
              "    <tr>\n",
              "      <th>min</th>\n",
              "      <td>1.000000</td>\n",
              "      <td>-2.000000</td>\n",
              "      <td>86.600000</td>\n",
              "      <td>141.100000</td>\n",
              "      <td>60.300000</td>\n",
              "      <td>47.800000</td>\n",
              "      <td>1488.000000</td>\n",
              "      <td>61.000000</td>\n",
              "      <td>2.540000</td>\n",
              "      <td>2.070000</td>\n",
              "      <td>7.000000</td>\n",
              "      <td>48.000000</td>\n",
              "      <td>4150.000000</td>\n",
              "      <td>13.000000</td>\n",
              "      <td>16.000000</td>\n",
              "      <td>5118.000000</td>\n",
              "    </tr>\n",
              "    <tr>\n",
              "      <th>25%</th>\n",
              "      <td>52.000000</td>\n",
              "      <td>0.000000</td>\n",
              "      <td>94.500000</td>\n",
              "      <td>166.300000</td>\n",
              "      <td>64.100000</td>\n",
              "      <td>52.000000</td>\n",
              "      <td>2145.000000</td>\n",
              "      <td>97.000000</td>\n",
              "      <td>3.150000</td>\n",
              "      <td>3.110000</td>\n",
              "      <td>8.600000</td>\n",
              "      <td>70.000000</td>\n",
              "      <td>4800.000000</td>\n",
              "      <td>19.000000</td>\n",
              "      <td>25.000000</td>\n",
              "      <td>7788.000000</td>\n",
              "    </tr>\n",
              "    <tr>\n",
              "      <th>50%</th>\n",
              "      <td>103.000000</td>\n",
              "      <td>1.000000</td>\n",
              "      <td>97.000000</td>\n",
              "      <td>173.200000</td>\n",
              "      <td>65.500000</td>\n",
              "      <td>54.100000</td>\n",
              "      <td>2414.000000</td>\n",
              "      <td>120.000000</td>\n",
              "      <td>3.310000</td>\n",
              "      <td>3.290000</td>\n",
              "      <td>9.000000</td>\n",
              "      <td>95.000000</td>\n",
              "      <td>5200.000000</td>\n",
              "      <td>24.000000</td>\n",
              "      <td>30.000000</td>\n",
              "      <td>10295.000000</td>\n",
              "    </tr>\n",
              "    <tr>\n",
              "      <th>75%</th>\n",
              "      <td>154.000000</td>\n",
              "      <td>2.000000</td>\n",
              "      <td>102.400000</td>\n",
              "      <td>183.100000</td>\n",
              "      <td>66.900000</td>\n",
              "      <td>55.500000</td>\n",
              "      <td>2935.000000</td>\n",
              "      <td>141.000000</td>\n",
              "      <td>3.580000</td>\n",
              "      <td>3.410000</td>\n",
              "      <td>9.400000</td>\n",
              "      <td>116.000000</td>\n",
              "      <td>5500.000000</td>\n",
              "      <td>30.000000</td>\n",
              "      <td>34.000000</td>\n",
              "      <td>16503.000000</td>\n",
              "    </tr>\n",
              "    <tr>\n",
              "      <th>max</th>\n",
              "      <td>205.000000</td>\n",
              "      <td>3.000000</td>\n",
              "      <td>120.900000</td>\n",
              "      <td>208.100000</td>\n",
              "      <td>72.300000</td>\n",
              "      <td>59.800000</td>\n",
              "      <td>4066.000000</td>\n",
              "      <td>326.000000</td>\n",
              "      <td>3.940000</td>\n",
              "      <td>4.170000</td>\n",
              "      <td>23.000000</td>\n",
              "      <td>288.000000</td>\n",
              "      <td>6600.000000</td>\n",
              "      <td>49.000000</td>\n",
              "      <td>54.000000</td>\n",
              "      <td>45400.000000</td>\n",
              "    </tr>\n",
              "  </tbody>\n",
              "</table>\n",
              "</div>"
            ],
            "text/plain": [
              "           car_ID   symboling   wheelbase  ...     citympg  highwaympg         price\n",
              "count  205.000000  205.000000  205.000000  ...  205.000000  205.000000    205.000000\n",
              "mean   103.000000    0.834146   98.756585  ...   25.219512   30.751220  13276.710571\n",
              "std     59.322565    1.245307    6.021776  ...    6.542142    6.886443   7988.852332\n",
              "min      1.000000   -2.000000   86.600000  ...   13.000000   16.000000   5118.000000\n",
              "25%     52.000000    0.000000   94.500000  ...   19.000000   25.000000   7788.000000\n",
              "50%    103.000000    1.000000   97.000000  ...   24.000000   30.000000  10295.000000\n",
              "75%    154.000000    2.000000  102.400000  ...   30.000000   34.000000  16503.000000\n",
              "max    205.000000    3.000000  120.900000  ...   49.000000   54.000000  45400.000000\n",
              "\n",
              "[8 rows x 16 columns]"
            ]
          },
          "metadata": {
            "tags": []
          },
          "execution_count": 17
        }
      ]
    },
    {
      "cell_type": "code",
      "metadata": {
        "id": "GMO6q6Ya-6T4"
      },
      "source": [
        "# dataframe spliting into input(X) & output(y)\n",
        "X=df.iloc[:,:-1]\n",
        "y=df.iloc[:,-1]"
      ],
      "execution_count": 18,
      "outputs": []
    },
    {
      "cell_type": "code",
      "metadata": {
        "colab": {
          "base_uri": "https://localhost:8080/"
        },
        "id": "Q8k4UWrj_J9V",
        "outputId": "446563d7-6442-4b2a-e9fc-3fda3e3a58c1"
      },
      "source": [
        "# check any duplicated values in data frame\n",
        "df.duplicated().any()"
      ],
      "execution_count": 19,
      "outputs": [
        {
          "output_type": "execute_result",
          "data": {
            "text/plain": [
              "False"
            ]
          },
          "metadata": {
            "tags": []
          },
          "execution_count": 19
        }
      ]
    },
    {
      "cell_type": "code",
      "metadata": {
        "colab": {
          "base_uri": "https://localhost:8080/"
        },
        "id": "9Ep6u48d_Vdt",
        "outputId": "21183f9a-a359-4f66-ba31-5bbeb2421d18"
      },
      "source": [
        "df.info()"
      ],
      "execution_count": 20,
      "outputs": [
        {
          "output_type": "stream",
          "text": [
            "<class 'pandas.core.frame.DataFrame'>\n",
            "RangeIndex: 205 entries, 0 to 204\n",
            "Data columns (total 26 columns):\n",
            " #   Column            Non-Null Count  Dtype  \n",
            "---  ------            --------------  -----  \n",
            " 0   car_ID            205 non-null    int64  \n",
            " 1   symboling         205 non-null    int64  \n",
            " 2   CarName           205 non-null    object \n",
            " 3   fueltype          205 non-null    object \n",
            " 4   aspiration        205 non-null    object \n",
            " 5   doornumber        205 non-null    object \n",
            " 6   carbody           205 non-null    object \n",
            " 7   drivewheel        205 non-null    object \n",
            " 8   enginelocation    205 non-null    object \n",
            " 9   wheelbase         205 non-null    float64\n",
            " 10  carlength         205 non-null    float64\n",
            " 11  carwidth          205 non-null    float64\n",
            " 12  carheight         205 non-null    float64\n",
            " 13  curbweight        205 non-null    int64  \n",
            " 14  enginetype        205 non-null    object \n",
            " 15  cylindernumber    205 non-null    object \n",
            " 16  enginesize        205 non-null    int64  \n",
            " 17  fuelsystem        205 non-null    object \n",
            " 18  boreratio         205 non-null    float64\n",
            " 19  stroke            205 non-null    float64\n",
            " 20  compressionratio  205 non-null    float64\n",
            " 21  horsepower        205 non-null    int64  \n",
            " 22  peakrpm           205 non-null    int64  \n",
            " 23  citympg           205 non-null    int64  \n",
            " 24  highwaympg        205 non-null    int64  \n",
            " 25  price             205 non-null    float64\n",
            "dtypes: float64(8), int64(8), object(10)\n",
            "memory usage: 41.8+ KB\n"
          ],
          "name": "stdout"
        }
      ]
    },
    {
      "cell_type": "code",
      "metadata": {
        "id": "xMPMd4Ts_gu_"
      },
      "source": [
        "# Drop all non_numeric features\n",
        "X.drop(X.select_dtypes(include='object'),axis=1,inplace=True)"
      ],
      "execution_count": 22,
      "outputs": []
    },
    {
      "cell_type": "code",
      "metadata": {
        "colab": {
          "base_uri": "https://localhost:8080/"
        },
        "id": "UxmEnFPh_r2X",
        "outputId": "ebf344c7-2508-4955-e5f8-d391e2b60bcb"
      },
      "source": [
        "# check duplicated values\n",
        "X.duplicated().any()"
      ],
      "execution_count": 23,
      "outputs": [
        {
          "output_type": "execute_result",
          "data": {
            "text/plain": [
              "False"
            ]
          },
          "metadata": {
            "tags": []
          },
          "execution_count": 23
        }
      ]
    },
    {
      "cell_type": "code",
      "metadata": {
        "id": "XdvWc5mB_1xr"
      },
      "source": [
        "# spliting data into training data (X_train) as  training labels (y_train)\n",
        "X_train=X.sample(frac=0.7, random_state=1,axis=0)\n",
        "y_train=y.sample(frac=0.7, random_state=1,axis=0)"
      ],
      "execution_count": 24,
      "outputs": []
    },
    {
      "cell_type": "code",
      "metadata": {
        "id": "2EXPeoEY_8k-"
      },
      "source": [
        "# spliting data into training data (X_test) as  training labels (y_test)\n",
        "X_test=X.sample(frac=0.3, replace=True, random_state=1,axis=0)\n",
        "y_test=y.sample(frac=0.3, replace=True, random_state=1,axis=0)"
      ],
      "execution_count": 26,
      "outputs": []
    },
    {
      "cell_type": "code",
      "metadata": {
        "colab": {
          "base_uri": "https://localhost:8080/"
        },
        "id": "yN3bMpUEAOdT",
        "outputId": "f31b4da9-b31f-42be-e9c3-65244da67e94"
      },
      "source": [
        "# Check the shape of training data,testing data,training labels,testing labels\n",
        "print(f\"shape of training data is :{X_train.shape}\\nshape of training label is :{y_train.shape}\\nshape of testing data is :{X_test.shape}\\nshape of testing label is :{y_test.shape}\")"
      ],
      "execution_count": 27,
      "outputs": [
        {
          "output_type": "stream",
          "text": [
            "shape of training data is :(144, 15)\n",
            "shape of training label is :(144,)\n",
            "shape of testing data is :(62, 15)\n",
            "shape of testing label is :(62,)\n"
          ],
          "name": "stdout"
        }
      ]
    },
    {
      "cell_type": "markdown",
      "metadata": {
        "id": "DSp00AvTAYRr"
      },
      "source": [
        "Data preparing for model (normalizing,changeing datatype,datatype convert into array)"
      ]
    },
    {
      "cell_type": "code",
      "metadata": {
        "id": "v-L3Nwm6AmLW"
      },
      "source": [
        "#convert training and testing data into numpy array and also change datatypes into Float\n",
        "X_train=np.asarray(X_train).astype(\"float32\")\n",
        "X_test=np.asarray(X_test).astype(\"float32\")"
      ],
      "execution_count": 28,
      "outputs": []
    },
    {
      "cell_type": "code",
      "metadata": {
        "id": "oKEsreKQA1Uv"
      },
      "source": [
        "#Data normalization \n",
        "mean = X_train.mean(axis=0)\n",
        "X_train-= mean\n",
        "std = X_train.std(axis=0)\n",
        "X_train/= std\n",
        "X_test-= mean\n",
        "X_test/= std"
      ],
      "execution_count": 29,
      "outputs": []
    },
    {
      "cell_type": "code",
      "metadata": {
        "id": "FAioJBdGBDQG"
      },
      "source": [
        "# labels \n",
        "y_mean = y_train.mean(axis=0)\n",
        "y_train-= y_mean\n",
        "y_std = y_train.std(axis=0)\n",
        "y_train/= y_std\n",
        "y_test-= y_mean\n",
        "y_test/= y_std"
      ],
      "execution_count": null,
      "outputs": []
    },
    {
      "cell_type": "code",
      "metadata": {
        "id": "g4i5eBTgBIbH"
      },
      "source": [
        "# validation Data split from training Data\n",
        "val_x=X_train[:50]\n",
        "partial_x_train=X_train[50:]\n",
        "val_y=y_train[:50]\n",
        "partial_y_train=y_train[50:]"
      ],
      "execution_count": 30,
      "outputs": []
    },
    {
      "cell_type": "code",
      "metadata": {
        "id": "JTCPvdSJBLBy"
      },
      "source": [
        "# importing all libariries\n",
        "import tensorflow as tf\n",
        "from keras import models,layers,optimizers,losses"
      ],
      "execution_count": 31,
      "outputs": []
    },
    {
      "cell_type": "code",
      "metadata": {
        "id": "4e4l5WzDBe7U"
      },
      "source": [
        "# model buildup\n",
        "network=models.Sequential()\n",
        "network.add(layers.Dense(10,activation=\"relu\" ,input_shape=(X_train.shape[1],)))\n",
        "network.add(layers.Dropout(0.2))\n",
        "network.add(layers.Dense(8,activation=\"relu\"))\n",
        "#network.add(layers.Dropout(0.2))\n",
        "network.add(layers.Dense(6,activation=\"relu\"))\n",
        "network.add(layers.Dense(1))"
      ],
      "execution_count": 32,
      "outputs": []
    },
    {
      "cell_type": "code",
      "metadata": {
        "id": "fARCuLsUBoeS"
      },
      "source": [
        "# model compliling\n",
        "network.compile(optimizer=\"rmsprop\",loss=\"mse\",metrics=[\"mae\"])"
      ],
      "execution_count": 34,
      "outputs": []
    },
    {
      "cell_type": "code",
      "metadata": {
        "colab": {
          "base_uri": "https://localhost:8080/"
        },
        "id": "JNAMDnJIBxSU",
        "outputId": "e3b6e0c5-5f84-400f-e8fb-562cea5ab624"
      },
      "source": [
        "# check summaryof models\n",
        "network.summary()"
      ],
      "execution_count": 35,
      "outputs": [
        {
          "output_type": "stream",
          "text": [
            "Model: \"sequential\"\n",
            "_________________________________________________________________\n",
            "Layer (type)                 Output Shape              Param #   \n",
            "=================================================================\n",
            "dense (Dense)                (None, 10)                160       \n",
            "_________________________________________________________________\n",
            "dropout (Dropout)            (None, 10)                0         \n",
            "_________________________________________________________________\n",
            "dense_1 (Dense)              (None, 8)                 88        \n",
            "_________________________________________________________________\n",
            "dense_2 (Dense)              (None, 6)                 54        \n",
            "_________________________________________________________________\n",
            "dense_3 (Dense)              (None, 1)                 7         \n",
            "=================================================================\n",
            "Total params: 309\n",
            "Trainable params: 309\n",
            "Non-trainable params: 0\n",
            "_________________________________________________________________\n"
          ],
          "name": "stdout"
        }
      ]
    },
    {
      "cell_type": "code",
      "metadata": {
        "colab": {
          "base_uri": "https://localhost:8080/"
        },
        "id": "SAxVbVkoB4lE",
        "outputId": "a8d90d17-2ce4-4151-a2d4-b209558e572c"
      },
      "source": [
        "# model training on training data & validation data\n",
        "history=network.fit(partial_x_train, partial_y_train,epochs=90, batch_size=1, verbose=1,validation_data=(val_x,val_y))"
      ],
      "execution_count": 36,
      "outputs": [
        {
          "output_type": "stream",
          "text": [
            "Epoch 1/90\n",
            "94/94 [==============================] - 1s 6ms/step - loss: 191597493.5579 - mae: 12235.0089 - val_loss: 222963568.0000 - val_mae: 12567.2314\n",
            "Epoch 2/90\n",
            "94/94 [==============================] - 0s 2ms/step - loss: 339325563.7895 - mae: 15601.8553 - val_loss: 222925888.0000 - val_mae: 12565.8242\n",
            "Epoch 3/90\n",
            "94/94 [==============================] - 0s 2ms/step - loss: 301373260.4632 - mae: 15023.4115 - val_loss: 222860928.0000 - val_mae: 12563.5850\n",
            "Epoch 4/90\n",
            "94/94 [==============================] - 0s 2ms/step - loss: 234811239.1579 - mae: 13151.2507 - val_loss: 222762736.0000 - val_mae: 12560.2822\n",
            "Epoch 5/90\n",
            "94/94 [==============================] - 0s 2ms/step - loss: 211728235.3684 - mae: 12647.2790 - val_loss: 222611744.0000 - val_mae: 12555.3164\n",
            "Epoch 6/90\n",
            "94/94 [==============================] - 0s 2ms/step - loss: 223488639.2842 - mae: 12870.6705 - val_loss: 222399632.0000 - val_mae: 12548.4512\n",
            "Epoch 7/90\n",
            "94/94 [==============================] - 0s 2ms/step - loss: 248941477.7263 - mae: 13834.5206 - val_loss: 222082480.0000 - val_mae: 12538.2373\n",
            "Epoch 8/90\n",
            "94/94 [==============================] - 0s 2ms/step - loss: 264021967.8316 - mae: 14174.5765 - val_loss: 221707312.0000 - val_mae: 12525.8701\n",
            "Epoch 9/90\n",
            "94/94 [==============================] - 0s 2ms/step - loss: 240857902.7368 - mae: 13320.1230 - val_loss: 221111056.0000 - val_mae: 12506.9512\n",
            "Epoch 10/90\n",
            "94/94 [==============================] - 0s 2ms/step - loss: 258926911.4947 - mae: 14190.1219 - val_loss: 220385808.0000 - val_mae: 12483.8496\n",
            "Epoch 11/90\n",
            "94/94 [==============================] - 0s 2ms/step - loss: 281295356.2105 - mae: 14115.0645 - val_loss: 219423152.0000 - val_mae: 12453.4473\n",
            "Epoch 12/90\n",
            "94/94 [==============================] - 0s 2ms/step - loss: 266569070.8211 - mae: 14383.0700 - val_loss: 218224064.0000 - val_mae: 12414.8799\n",
            "Epoch 13/90\n",
            "94/94 [==============================] - 0s 2ms/step - loss: 213268386.4421 - mae: 12942.0696 - val_loss: 216800480.0000 - val_mae: 12369.0664\n",
            "Epoch 14/90\n",
            "94/94 [==============================] - 0s 2ms/step - loss: 241355178.1474 - mae: 12982.6853 - val_loss: 214975440.0000 - val_mae: 12310.7617\n",
            "Epoch 15/90\n",
            "94/94 [==============================] - 0s 2ms/step - loss: 198970081.6842 - mae: 12664.1177 - val_loss: 212539248.0000 - val_mae: 12233.3867\n",
            "Epoch 16/90\n",
            "94/94 [==============================] - 0s 2ms/step - loss: 281543431.4105 - mae: 14362.5991 - val_loss: 209934176.0000 - val_mae: 12148.1162\n",
            "Epoch 17/90\n",
            "94/94 [==============================] - 0s 2ms/step - loss: 230021473.1368 - mae: 13200.0003 - val_loss: 206589008.0000 - val_mae: 12040.5527\n",
            "Epoch 18/90\n",
            "94/94 [==============================] - 0s 2ms/step - loss: 216311295.0737 - mae: 13090.6480 - val_loss: 202998544.0000 - val_mae: 11920.6611\n",
            "Epoch 19/90\n",
            "94/94 [==============================] - 0s 2ms/step - loss: 225913807.8316 - mae: 12923.2354 - val_loss: 198486976.0000 - val_mae: 11772.0400\n",
            "Epoch 20/90\n",
            "94/94 [==============================] - 0s 2ms/step - loss: 256712606.4842 - mae: 14095.5357 - val_loss: 193789600.0000 - val_mae: 11609.9883\n",
            "Epoch 21/90\n",
            "94/94 [==============================] - 0s 2ms/step - loss: 191779096.8421 - mae: 12040.0452 - val_loss: 187962240.0000 - val_mae: 11412.1680\n",
            "Epoch 22/90\n",
            "94/94 [==============================] - 0s 2ms/step - loss: 254233072.6737 - mae: 13313.2120 - val_loss: 181988256.0000 - val_mae: 11200.0566\n",
            "Epoch 23/90\n",
            "94/94 [==============================] - 0s 2ms/step - loss: 202175157.8947 - mae: 12460.5416 - val_loss: 175073584.0000 - val_mae: 10954.1846\n",
            "Epoch 24/90\n",
            "94/94 [==============================] - 0s 2ms/step - loss: 217988058.6947 - mae: 12601.6975 - val_loss: 167469888.0000 - val_mae: 10673.0908\n",
            "Epoch 25/90\n",
            "94/94 [==============================] - 0s 2ms/step - loss: 211951672.6526 - mae: 12092.1475 - val_loss: 158527888.0000 - val_mae: 10340.5059\n",
            "Epoch 26/90\n",
            "94/94 [==============================] - 0s 2ms/step - loss: 173643043.9579 - mae: 11429.5428 - val_loss: 150005888.0000 - val_mae: 10006.8818\n",
            "Epoch 27/90\n",
            "94/94 [==============================] - 0s 2ms/step - loss: 143267322.4842 - mae: 10313.1761 - val_loss: 140093504.0000 - val_mae: 9614.4268\n",
            "Epoch 28/90\n",
            "94/94 [==============================] - 0s 2ms/step - loss: 156544832.7158 - mae: 10300.5925 - val_loss: 129611552.0000 - val_mae: 9205.9990\n",
            "Epoch 29/90\n",
            "94/94 [==============================] - 0s 2ms/step - loss: 123465406.8421 - mae: 9366.9051 - val_loss: 118384680.0000 - val_mae: 8750.7617\n",
            "Epoch 30/90\n",
            "94/94 [==============================] - 0s 2ms/step - loss: 136209774.7789 - mae: 9696.1367 - val_loss: 107581744.0000 - val_mae: 8279.8701\n",
            "Epoch 31/90\n",
            "94/94 [==============================] - 0s 2ms/step - loss: 139005288.5895 - mae: 9562.2560 - val_loss: 96877744.0000 - val_mae: 7783.6074\n",
            "Epoch 32/90\n",
            "94/94 [==============================] - 0s 2ms/step - loss: 125048138.0842 - mae: 9222.5668 - val_loss: 86428048.0000 - val_mae: 7278.5996\n",
            "Epoch 33/90\n",
            "94/94 [==============================] - 0s 2ms/step - loss: 87843584.5684 - mae: 7562.0775 - val_loss: 75037240.0000 - val_mae: 6711.7964\n",
            "Epoch 34/90\n",
            "94/94 [==============================] - 0s 2ms/step - loss: 75161870.3092 - mae: 6941.0744 - val_loss: 65258364.0000 - val_mae: 6199.0908\n",
            "Epoch 35/90\n",
            "94/94 [==============================] - 0s 2ms/step - loss: 68202282.6947 - mae: 6713.2942 - val_loss: 55481404.0000 - val_mae: 5713.0293\n",
            "Epoch 36/90\n",
            "94/94 [==============================] - 0s 2ms/step - loss: 76361094.4985 - mae: 6703.7666 - val_loss: 46917756.0000 - val_mae: 5248.6963\n",
            "Epoch 37/90\n",
            "94/94 [==============================] - 0s 2ms/step - loss: 79198218.4421 - mae: 6805.6351 - val_loss: 39420348.0000 - val_mae: 4804.5410\n",
            "Epoch 38/90\n",
            "94/94 [==============================] - 0s 2ms/step - loss: 58876302.9947 - mae: 5739.3778 - val_loss: 32716516.0000 - val_mae: 4342.0688\n",
            "Epoch 39/90\n",
            "94/94 [==============================] - 0s 2ms/step - loss: 66479468.3158 - mae: 6326.9483 - val_loss: 28181960.0000 - val_mae: 3979.6711\n",
            "Epoch 40/90\n",
            "94/94 [==============================] - 0s 2ms/step - loss: 40248021.6421 - mae: 4817.6079 - val_loss: 25012866.0000 - val_mae: 3697.0303\n",
            "Epoch 41/90\n",
            "94/94 [==============================] - 0s 2ms/step - loss: 36249991.1368 - mae: 4741.0564 - val_loss: 22995806.0000 - val_mae: 3488.8608\n",
            "Epoch 42/90\n",
            "94/94 [==============================] - 0s 2ms/step - loss: 37884974.8000 - mae: 4711.8792 - val_loss: 21629676.0000 - val_mae: 3396.5281\n",
            "Epoch 43/90\n",
            "94/94 [==============================] - 0s 2ms/step - loss: 27295972.3579 - mae: 3969.4255 - val_loss: 20105682.0000 - val_mae: 3347.2947\n",
            "Epoch 44/90\n",
            "94/94 [==============================] - 0s 2ms/step - loss: 43281611.9368 - mae: 5412.7855 - val_loss: 19601758.0000 - val_mae: 3322.4873\n",
            "Epoch 45/90\n",
            "94/94 [==============================] - 0s 2ms/step - loss: 37287247.3211 - mae: 4759.1124 - val_loss: 19258410.0000 - val_mae: 3305.9658\n",
            "Epoch 46/90\n",
            "94/94 [==============================] - 0s 2ms/step - loss: 38657332.0737 - mae: 4754.0617 - val_loss: 18751892.0000 - val_mae: 3288.5444\n",
            "Epoch 47/90\n",
            "94/94 [==============================] - 0s 2ms/step - loss: 31896703.8737 - mae: 4620.6830 - val_loss: 18119060.0000 - val_mae: 3247.2800\n",
            "Epoch 48/90\n",
            "94/94 [==============================] - 0s 2ms/step - loss: 33836640.6243 - mae: 4380.1475 - val_loss: 17823432.0000 - val_mae: 3225.8684\n",
            "Epoch 49/90\n",
            "94/94 [==============================] - 0s 2ms/step - loss: 35540249.5368 - mae: 4675.0366 - val_loss: 17678758.0000 - val_mae: 3214.4250\n",
            "Epoch 50/90\n",
            "94/94 [==============================] - 0s 2ms/step - loss: 30422558.9303 - mae: 4528.9345 - val_loss: 17398944.0000 - val_mae: 3184.8638\n",
            "Epoch 51/90\n",
            "94/94 [==============================] - 0s 2ms/step - loss: 21987263.8632 - mae: 3787.9948 - val_loss: 17090562.0000 - val_mae: 3157.2163\n",
            "Epoch 52/90\n",
            "94/94 [==============================] - 0s 2ms/step - loss: 26958968.2158 - mae: 4226.9282 - val_loss: 16991148.0000 - val_mae: 3152.0088\n",
            "Epoch 53/90\n",
            "94/94 [==============================] - 0s 2ms/step - loss: 19197773.7737 - mae: 3392.8734 - val_loss: 17081784.0000 - val_mae: 3163.6621\n",
            "Epoch 54/90\n",
            "94/94 [==============================] - 0s 2ms/step - loss: 42145712.1789 - mae: 5038.7153 - val_loss: 16769056.0000 - val_mae: 3131.8962\n",
            "Epoch 55/90\n",
            "94/94 [==============================] - 0s 2ms/step - loss: 23695124.5553 - mae: 3705.6998 - val_loss: 16545356.0000 - val_mae: 3108.9373\n",
            "Epoch 56/90\n",
            "94/94 [==============================] - 0s 2ms/step - loss: 31664041.7789 - mae: 4468.7569 - val_loss: 16175843.0000 - val_mae: 3064.2373\n",
            "Epoch 57/90\n",
            "94/94 [==============================] - 0s 2ms/step - loss: 44040981.8105 - mae: 5037.6814 - val_loss: 16089937.0000 - val_mae: 3048.3584\n",
            "Epoch 58/90\n",
            "94/94 [==============================] - 0s 2ms/step - loss: 25471744.9789 - mae: 4109.9125 - val_loss: 16005919.0000 - val_mae: 3040.8101\n",
            "Epoch 59/90\n",
            "94/94 [==============================] - 0s 2ms/step - loss: 26749899.9737 - mae: 4041.2582 - val_loss: 15800741.0000 - val_mae: 3024.0461\n",
            "Epoch 60/90\n",
            "94/94 [==============================] - 0s 2ms/step - loss: 23036596.8000 - mae: 3416.2849 - val_loss: 15672730.0000 - val_mae: 3018.8340\n",
            "Epoch 61/90\n",
            "94/94 [==============================] - 0s 2ms/step - loss: 24600800.6737 - mae: 3891.1624 - val_loss: 15441010.0000 - val_mae: 2978.8010\n",
            "Epoch 62/90\n",
            "94/94 [==============================] - 0s 2ms/step - loss: 24615226.9324 - mae: 3574.7215 - val_loss: 15241701.0000 - val_mae: 2954.0466\n",
            "Epoch 63/90\n",
            "94/94 [==============================] - 0s 2ms/step - loss: 25006741.2737 - mae: 3992.2718 - val_loss: 15033660.0000 - val_mae: 2933.6519\n",
            "Epoch 64/90\n",
            "94/94 [==============================] - 0s 2ms/step - loss: 28802674.0000 - mae: 4307.3233 - val_loss: 15000984.0000 - val_mae: 2912.4790\n",
            "Epoch 65/90\n",
            "94/94 [==============================] - 0s 2ms/step - loss: 40679625.4316 - mae: 4832.1783 - val_loss: 14933807.0000 - val_mae: 2898.8999\n",
            "Epoch 66/90\n",
            "94/94 [==============================] - 0s 2ms/step - loss: 32759782.4105 - mae: 4179.6512 - val_loss: 14592929.0000 - val_mae: 2887.4077\n",
            "Epoch 67/90\n",
            "94/94 [==============================] - 0s 2ms/step - loss: 40890807.1053 - mae: 4657.5568 - val_loss: 14403451.0000 - val_mae: 2872.1677\n",
            "Epoch 68/90\n",
            "94/94 [==============================] - 0s 2ms/step - loss: 21870980.9053 - mae: 3689.1842 - val_loss: 14287813.0000 - val_mae: 2852.3279\n",
            "Epoch 69/90\n",
            "94/94 [==============================] - 0s 2ms/step - loss: 23096792.5895 - mae: 3814.8701 - val_loss: 14025778.0000 - val_mae: 2835.2378\n",
            "Epoch 70/90\n",
            "94/94 [==============================] - 0s 2ms/step - loss: 32847733.2947 - mae: 4459.1919 - val_loss: 13982744.0000 - val_mae: 2817.7556\n",
            "Epoch 71/90\n",
            "94/94 [==============================] - 0s 2ms/step - loss: 29555183.3161 - mae: 3592.6670 - val_loss: 13835428.0000 - val_mae: 2805.4575\n",
            "Epoch 72/90\n",
            "94/94 [==============================] - 0s 2ms/step - loss: 21060640.8842 - mae: 3425.7029 - val_loss: 13681921.0000 - val_mae: 2776.1663\n",
            "Epoch 73/90\n",
            "94/94 [==============================] - 0s 2ms/step - loss: 21256054.7329 - mae: 3332.4215 - val_loss: 13500823.0000 - val_mae: 2758.4207\n",
            "Epoch 74/90\n",
            "94/94 [==============================] - 0s 2ms/step - loss: 19959877.7092 - mae: 3650.8017 - val_loss: 13332920.0000 - val_mae: 2752.0481\n",
            "Epoch 75/90\n",
            "94/94 [==============================] - 0s 2ms/step - loss: 18185962.3368 - mae: 3494.0904 - val_loss: 13148006.0000 - val_mae: 2726.0957\n",
            "Epoch 76/90\n",
            "94/94 [==============================] - 0s 2ms/step - loss: 23274528.3789 - mae: 3718.1301 - val_loss: 13179867.0000 - val_mae: 2715.7329\n",
            "Epoch 77/90\n",
            "94/94 [==============================] - 0s 2ms/step - loss: 20439768.1263 - mae: 3815.6082 - val_loss: 13125313.0000 - val_mae: 2698.0583\n",
            "Epoch 78/90\n",
            "94/94 [==============================] - 0s 2ms/step - loss: 25826020.6947 - mae: 3738.0008 - val_loss: 12713422.0000 - val_mae: 2667.7063\n",
            "Epoch 79/90\n",
            "94/94 [==============================] - 0s 2ms/step - loss: 17634515.5500 - mae: 3151.1263 - val_loss: 12566845.0000 - val_mae: 2646.5684\n",
            "Epoch 80/90\n",
            "94/94 [==============================] - 0s 2ms/step - loss: 27130203.4947 - mae: 3930.4422 - val_loss: 12441850.0000 - val_mae: 2639.3643\n",
            "Epoch 81/90\n",
            "94/94 [==============================] - 0s 2ms/step - loss: 19972220.4684 - mae: 3491.3104 - val_loss: 12413065.0000 - val_mae: 2619.5618\n",
            "Epoch 82/90\n",
            "94/94 [==============================] - 0s 2ms/step - loss: 26940065.2632 - mae: 4065.9777 - val_loss: 12209715.0000 - val_mae: 2602.8289\n",
            "Epoch 83/90\n",
            "94/94 [==============================] - 0s 2ms/step - loss: 25474318.2211 - mae: 3972.1444 - val_loss: 12208146.0000 - val_mae: 2587.2981\n",
            "Epoch 84/90\n",
            "94/94 [==============================] - 0s 2ms/step - loss: 24928427.6421 - mae: 3702.9618 - val_loss: 12205056.0000 - val_mae: 2568.7266\n",
            "Epoch 85/90\n",
            "94/94 [==============================] - 0s 2ms/step - loss: 21133097.6421 - mae: 3501.0177 - val_loss: 11875939.0000 - val_mae: 2563.1482\n",
            "Epoch 86/90\n",
            "94/94 [==============================] - 0s 2ms/step - loss: 22358760.9158 - mae: 3634.4503 - val_loss: 11760499.0000 - val_mae: 2540.6436\n",
            "Epoch 87/90\n",
            "94/94 [==============================] - 0s 2ms/step - loss: 14237196.9868 - mae: 2754.4393 - val_loss: 11680628.0000 - val_mae: 2550.7224\n",
            "Epoch 88/90\n",
            "94/94 [==============================] - 0s 2ms/step - loss: 25547564.1895 - mae: 4057.2140 - val_loss: 11722726.0000 - val_mae: 2542.0679\n",
            "Epoch 89/90\n",
            "94/94 [==============================] - 0s 2ms/step - loss: 21379285.0605 - mae: 3411.4947 - val_loss: 11486491.0000 - val_mae: 2527.5815\n",
            "Epoch 90/90\n",
            "94/94 [==============================] - 0s 2ms/step - loss: 21299163.0316 - mae: 3541.4231 - val_loss: 11309663.0000 - val_mae: 2521.8945\n"
          ],
          "name": "stdout"
        }
      ]
    },
    {
      "cell_type": "code",
      "metadata": {
        "colab": {
          "base_uri": "https://localhost:8080/",
          "height": 295
        },
        "id": "UnglXojHCE1K",
        "outputId": "9d56d4dd-503e-4b67-b1f0-01a986b1bc02"
      },
      "source": [
        "# graph of training and validation loss\n",
        "loss = history.history['loss']\n",
        "val_loss = history.history['val_loss']\n",
        "epochs = range(1, len(loss) + 1)\n",
        "plt.plot(epochs, loss,\"go\",label='Training loss')\n",
        "plt.plot(epochs, val_loss, 'r', label='Validation loss')\n",
        "plt.title('Training and validation loss')\n",
        "plt.xlabel('Epochs')\n",
        "plt.ylabel('Loss')\n",
        "plt.legend()\n",
        "plt.grid()\n",
        "plt.show()"
      ],
      "execution_count": 37,
      "outputs": [
        {
          "output_type": "display_data",
          "data": {
            "image/png": "[encoded data removed]",
            "text/plain": [
              "<Figure size 432x288 with 1 Axes>"
            ]
          },
          "metadata": {
            "tags": [],
            "needs_background": "light"
          }
        }
      ]
    },
    {
      "cell_type": "code",
      "metadata": {
        "colab": {
          "base_uri": "https://localhost:8080/"
        },
        "id": "LdrYaUWFCQdl",
        "outputId": "43597b36-e63b-4cb1-f6c6-d3225b979ec6"
      },
      "source": [
        "# model evaluation\n",
        "network.evaluate(X_test,y_test)"
      ],
      "execution_count": 38,
      "outputs": [
        {
          "output_type": "stream",
          "text": [
            "2/2 [==============================] - 0s 6ms/step - loss: 14652404.0000 - mae: 2663.7744\n"
          ],
          "name": "stdout"
        },
        {
          "output_type": "execute_result",
          "data": {
            "text/plain": [
              "[14652404.0, 2663.7744140625]"
            ]
          },
          "metadata": {
            "tags": []
          },
          "execution_count": 38
        }
      ]
    },
    {
      "cell_type": "code",
      "metadata": {
        "colab": {
          "base_uri": "https://localhost:8080/"
        },
        "id": "dzpnFj7UCT5X",
        "outputId": "aca3d185-ad79-4d7e-b06e-de2cace9c799"
      },
      "source": [
        "#model predictions \n",
        "#result=network.predict(X_test)\n",
        "result_1=network.predict(X_test)\n",
        "result_1[4]"
      ],
      "execution_count": 39,
      "outputs": [
        {
          "output_type": "execute_result",
          "data": {
            "text/plain": [
              "array([12350.74], dtype=float32)"
            ]
          },
          "metadata": {
            "tags": []
          },
          "execution_count": 39
        }
      ]
    },
    {
      "cell_type": "code",
      "metadata": {
        "colab": {
          "base_uri": "https://localhost:8080/",
          "height": 295
        },
        "id": "SiZQsAnTCe3m",
        "outputId": "62d5ed37-b04c-4e91-f85e-66d95082abfd"
      },
      "source": [
        "#graph of actual values and predicted values\n",
        "y=result_1\n",
        "y1=range(62)\n",
        "x=y_test\n",
        "plt.scatter(x, y1, label= \"Actual price\", color= \"red\", marker= \"*\", s=100)\n",
        "plt.scatter(y, y1, label= \"Predicted Price\", color= \"blue\", marker= \"+\", s=100)\n",
        "plt.xlabel('Price')\n",
        "plt.ylabel('Rows')\n",
        "plt.title('Actual price vs predicted price!')\n",
        "plt.legend()\n",
        "plt.grid()\n",
        "plt.show()"
      ],
      "execution_count": 40,
      "outputs": [
        {
          "output_type": "display_data",
          "data": {
            "image/png": "[encoded data removed]",
            "text/plain": [
              "<Figure size 432x288 with 1 Axes>"
            ]
          },
          "metadata": {
            "tags": [],
            "needs_background": "light"
          }
        }
      ]
    },
    {
      "cell_type": "code",
      "metadata": {
        "id": "eRbnAU59Ch9O"
      },
      "source": [
        ""
      ],
      "execution_count": null,
      "outputs": []
    }
  ]
}