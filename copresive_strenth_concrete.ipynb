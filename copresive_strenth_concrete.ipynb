{
  "nbformat": 4,
  "nbformat_minor": 0,
  "metadata": {
    "colab": {
      "name": "copresive strenth concrete.ipynb",
      "provenance": [],
      "collapsed_sections": []
    },
    "kernelspec": {
      "name": "python3",
      "display_name": "Python 3"
    },
    "language_info": {
      "name": "python"
    }
  },
  "cells": [
    {
      "cell_type": "code",
      "metadata": {
        "id": "lBBBP6dQICk5"
      },
      "source": [
        "# importing libarires\n",
        "import tensorflow as tf\n",
        "import numpy as np\n",
        "import pandas as pd\n",
        "from tensorflow.keras import models, layers , optimizers"
      ],
      "execution_count": 3,
      "outputs": []
    },
    {
      "cell_type": "code",
      "metadata": {
        "colab": {
          "base_uri": "https://localhost:8080/"
        },
        "id": "kd_JRPYrIu0t",
        "outputId": "089da828-4ead-49e5-afdb-164ebf203511"
      },
      "source": [
        "from google.colab import drive\n",
        "drive.mount('/content/drive')"
      ],
      "execution_count": 4,
      "outputs": [
        {
          "output_type": "stream",
          "text": [
            "Drive already mounted at /content/drive; to attempt to forcibly remount, call drive.mount(\"/content/drive\", force_remount=True).\n"
          ],
          "name": "stdout"
        }
      ]
    },
    {
      "cell_type": "code",
      "metadata": {
        "id": "MQRATlBhL72M"
      },
      "source": [
        "df= pd.read_csv(\"/content/drive/MyDrive/compresive_strength_concrete.csv\")"
      ],
      "execution_count": 5,
      "outputs": []
    },
    {
      "cell_type": "code",
      "metadata": {
        "colab": {
          "base_uri": "https://localhost:8080/",
          "height": 255
        },
        "id": "o4QrELOhM9Bc",
        "outputId": "d78b7f2e-36e9-4263-9969-350ed29e6462"
      },
      "source": [
        "df.head()"
      ],
      "execution_count": 6,
      "outputs": [
        {
          "output_type": "execute_result",
          "data": {
            "text/html": [
              "<div>\n",
              "<style scoped>\n",
              "    .dataframe tbody tr th:only-of-type {\n",
              "        vertical-align: middle;\n",
              "    }\n",
              "\n",
              "    .dataframe tbody tr th {\n",
              "        vertical-align: top;\n",
              "    }\n",
              "\n",
              "    .dataframe thead th {\n",
              "        text-align: right;\n",
              "    }\n",
              "</style>\n",
              "<table border=\"1\" class=\"dataframe\">\n",
              "  <thead>\n",
              "    <tr style=\"text-align: right;\">\n",
              "      <th></th>\n",
              "      <th>Cement (component 1)(kg in a m^3 mixture)</th>\n",
              "      <th>Blast Furnace Slag (component 2)(kg in a m^3 mixture)</th>\n",
              "      <th>Fly Ash (component 3)(kg in a m^3 mixture)</th>\n",
              "      <th>Water  (component 4)(kg in a m^3 mixture)</th>\n",
              "      <th>Superplasticizer (component 5)(kg in a m^3 mixture)</th>\n",
              "      <th>Coarse Aggregate  (component 6)(kg in a m^3 mixture)</th>\n",
              "      <th>Fine Aggregate (component 7)(kg in a m^3 mixture)</th>\n",
              "      <th>Age (day)</th>\n",
              "      <th>Concrete compressive strength(MPa, megapascals)</th>\n",
              "    </tr>\n",
              "  </thead>\n",
              "  <tbody>\n",
              "    <tr>\n",
              "      <th>0</th>\n",
              "      <td>540.0</td>\n",
              "      <td>0.0</td>\n",
              "      <td>0.0</td>\n",
              "      <td>162.0</td>\n",
              "      <td>2.5</td>\n",
              "      <td>1040.0</td>\n",
              "      <td>676.0</td>\n",
              "      <td>28</td>\n",
              "      <td>79.99</td>\n",
              "    </tr>\n",
              "    <tr>\n",
              "      <th>1</th>\n",
              "      <td>540.0</td>\n",
              "      <td>0.0</td>\n",
              "      <td>0.0</td>\n",
              "      <td>162.0</td>\n",
              "      <td>2.5</td>\n",
              "      <td>1055.0</td>\n",
              "      <td>676.0</td>\n",
              "      <td>28</td>\n",
              "      <td>61.89</td>\n",
              "    </tr>\n",
              "    <tr>\n",
              "      <th>2</th>\n",
              "      <td>332.5</td>\n",
              "      <td>142.5</td>\n",
              "      <td>0.0</td>\n",
              "      <td>228.0</td>\n",
              "      <td>0.0</td>\n",
              "      <td>932.0</td>\n",
              "      <td>594.0</td>\n",
              "      <td>270</td>\n",
              "      <td>40.27</td>\n",
              "    </tr>\n",
              "    <tr>\n",
              "      <th>3</th>\n",
              "      <td>332.5</td>\n",
              "      <td>142.5</td>\n",
              "      <td>0.0</td>\n",
              "      <td>228.0</td>\n",
              "      <td>0.0</td>\n",
              "      <td>932.0</td>\n",
              "      <td>594.0</td>\n",
              "      <td>365</td>\n",
              "      <td>41.05</td>\n",
              "    </tr>\n",
              "    <tr>\n",
              "      <th>4</th>\n",
              "      <td>198.6</td>\n",
              "      <td>132.4</td>\n",
              "      <td>0.0</td>\n",
              "      <td>192.0</td>\n",
              "      <td>0.0</td>\n",
              "      <td>978.4</td>\n",
              "      <td>825.5</td>\n",
              "      <td>360</td>\n",
              "      <td>44.30</td>\n",
              "    </tr>\n",
              "  </tbody>\n",
              "</table>\n",
              "</div>"
            ],
            "text/plain": [
              "   Cement (component 1)(kg in a m^3 mixture)  ...  Concrete compressive strength(MPa, megapascals) \n",
              "0                                      540.0  ...                                             79.99\n",
              "1                                      540.0  ...                                             61.89\n",
              "2                                      332.5  ...                                             40.27\n",
              "3                                      332.5  ...                                             41.05\n",
              "4                                      198.6  ...                                             44.30\n",
              "\n",
              "[5 rows x 9 columns]"
            ]
          },
          "metadata": {
            "tags": []
          },
          "execution_count": 6
        }
      ]
    },
    {
      "cell_type": "code",
      "metadata": {
        "colab": {
          "base_uri": "https://localhost:8080/"
        },
        "id": "bfq-COyvNFso",
        "outputId": "43065d94-7481-4732-ce87-2b87a5840119"
      },
      "source": [
        "# check null values in dataframe\n",
        "df.isnull().sum()"
      ],
      "execution_count": 8,
      "outputs": [
        {
          "output_type": "execute_result",
          "data": {
            "text/plain": [
              "Cement (component 1)(kg in a m^3 mixture)                0\n",
              "Blast Furnace Slag (component 2)(kg in a m^3 mixture)    0\n",
              "Fly Ash (component 3)(kg in a m^3 mixture)               0\n",
              "Water  (component 4)(kg in a m^3 mixture)                0\n",
              "Superplasticizer (component 5)(kg in a m^3 mixture)      0\n",
              "Coarse Aggregate  (component 6)(kg in a m^3 mixture)     0\n",
              "Fine Aggregate (component 7)(kg in a m^3 mixture)        0\n",
              "Age (day)                                                0\n",
              "Concrete compressive strength(MPa, megapascals)          0\n",
              "dtype: int64"
            ]
          },
          "metadata": {
            "tags": []
          },
          "execution_count": 8
        }
      ]
    },
    {
      "cell_type": "code",
      "metadata": {
        "colab": {
          "base_uri": "https://localhost:8080/",
          "height": 348
        },
        "id": "8YULLZXFNk8S",
        "outputId": "1b2d35d6-da91-4710-e34c-aec2b2aa094c"
      },
      "source": [
        "#statistical description of dataframe\n",
        "df.describe()"
      ],
      "execution_count": 9,
      "outputs": [
        {
          "output_type": "execute_result",
          "data": {
            "text/html": [
              "<div>\n",
              "<style scoped>\n",
              "    .dataframe tbody tr th:only-of-type {\n",
              "        vertical-align: middle;\n",
              "    }\n",
              "\n",
              "    .dataframe tbody tr th {\n",
              "        vertical-align: top;\n",
              "    }\n",
              "\n",
              "    .dataframe thead th {\n",
              "        text-align: right;\n",
              "    }\n",
              "</style>\n",
              "<table border=\"1\" class=\"dataframe\">\n",
              "  <thead>\n",
              "    <tr style=\"text-align: right;\">\n",
              "      <th></th>\n",
              "      <th>Cement (component 1)(kg in a m^3 mixture)</th>\n",
              "      <th>Blast Furnace Slag (component 2)(kg in a m^3 mixture)</th>\n",
              "      <th>Fly Ash (component 3)(kg in a m^3 mixture)</th>\n",
              "      <th>Water  (component 4)(kg in a m^3 mixture)</th>\n",
              "      <th>Superplasticizer (component 5)(kg in a m^3 mixture)</th>\n",
              "      <th>Coarse Aggregate  (component 6)(kg in a m^3 mixture)</th>\n",
              "      <th>Fine Aggregate (component 7)(kg in a m^3 mixture)</th>\n",
              "      <th>Age (day)</th>\n",
              "      <th>Concrete compressive strength(MPa, megapascals)</th>\n",
              "    </tr>\n",
              "  </thead>\n",
              "  <tbody>\n",
              "    <tr>\n",
              "      <th>count</th>\n",
              "      <td>1030.000000</td>\n",
              "      <td>1030.000000</td>\n",
              "      <td>1030.000000</td>\n",
              "      <td>1030.000000</td>\n",
              "      <td>1030.000000</td>\n",
              "      <td>1030.000000</td>\n",
              "      <td>1030.000000</td>\n",
              "      <td>1030.000000</td>\n",
              "      <td>1030.000000</td>\n",
              "    </tr>\n",
              "    <tr>\n",
              "      <th>mean</th>\n",
              "      <td>281.167864</td>\n",
              "      <td>73.895825</td>\n",
              "      <td>54.188350</td>\n",
              "      <td>181.567282</td>\n",
              "      <td>6.204660</td>\n",
              "      <td>972.918932</td>\n",
              "      <td>773.580485</td>\n",
              "      <td>45.662136</td>\n",
              "      <td>35.817961</td>\n",
              "    </tr>\n",
              "    <tr>\n",
              "      <th>std</th>\n",
              "      <td>104.506364</td>\n",
              "      <td>86.279342</td>\n",
              "      <td>63.997004</td>\n",
              "      <td>21.354219</td>\n",
              "      <td>5.973841</td>\n",
              "      <td>77.753954</td>\n",
              "      <td>80.175980</td>\n",
              "      <td>63.169912</td>\n",
              "      <td>16.705742</td>\n",
              "    </tr>\n",
              "    <tr>\n",
              "      <th>min</th>\n",
              "      <td>102.000000</td>\n",
              "      <td>0.000000</td>\n",
              "      <td>0.000000</td>\n",
              "      <td>121.800000</td>\n",
              "      <td>0.000000</td>\n",
              "      <td>801.000000</td>\n",
              "      <td>594.000000</td>\n",
              "      <td>1.000000</td>\n",
              "      <td>2.330000</td>\n",
              "    </tr>\n",
              "    <tr>\n",
              "      <th>25%</th>\n",
              "      <td>192.375000</td>\n",
              "      <td>0.000000</td>\n",
              "      <td>0.000000</td>\n",
              "      <td>164.900000</td>\n",
              "      <td>0.000000</td>\n",
              "      <td>932.000000</td>\n",
              "      <td>730.950000</td>\n",
              "      <td>7.000000</td>\n",
              "      <td>23.710000</td>\n",
              "    </tr>\n",
              "    <tr>\n",
              "      <th>50%</th>\n",
              "      <td>272.900000</td>\n",
              "      <td>22.000000</td>\n",
              "      <td>0.000000</td>\n",
              "      <td>185.000000</td>\n",
              "      <td>6.400000</td>\n",
              "      <td>968.000000</td>\n",
              "      <td>779.500000</td>\n",
              "      <td>28.000000</td>\n",
              "      <td>34.445000</td>\n",
              "    </tr>\n",
              "    <tr>\n",
              "      <th>75%</th>\n",
              "      <td>350.000000</td>\n",
              "      <td>142.950000</td>\n",
              "      <td>118.300000</td>\n",
              "      <td>192.000000</td>\n",
              "      <td>10.200000</td>\n",
              "      <td>1029.400000</td>\n",
              "      <td>824.000000</td>\n",
              "      <td>56.000000</td>\n",
              "      <td>46.135000</td>\n",
              "    </tr>\n",
              "    <tr>\n",
              "      <th>max</th>\n",
              "      <td>540.000000</td>\n",
              "      <td>359.400000</td>\n",
              "      <td>200.100000</td>\n",
              "      <td>247.000000</td>\n",
              "      <td>32.200000</td>\n",
              "      <td>1145.000000</td>\n",
              "      <td>992.600000</td>\n",
              "      <td>365.000000</td>\n",
              "      <td>82.600000</td>\n",
              "    </tr>\n",
              "  </tbody>\n",
              "</table>\n",
              "</div>"
            ],
            "text/plain": [
              "       Cement (component 1)(kg in a m^3 mixture)  ...  Concrete compressive strength(MPa, megapascals) \n",
              "count                                1030.000000  ...                                       1030.000000\n",
              "mean                                  281.167864  ...                                         35.817961\n",
              "std                                   104.506364  ...                                         16.705742\n",
              "min                                   102.000000  ...                                          2.330000\n",
              "25%                                   192.375000  ...                                         23.710000\n",
              "50%                                   272.900000  ...                                         34.445000\n",
              "75%                                   350.000000  ...                                         46.135000\n",
              "max                                   540.000000  ...                                         82.600000\n",
              "\n",
              "[8 rows x 9 columns]"
            ]
          },
          "metadata": {
            "tags": []
          },
          "execution_count": 9
        }
      ]
    },
    {
      "cell_type": "code",
      "metadata": {
        "colab": {
          "base_uri": "https://localhost:8080/"
        },
        "id": "6tQetEEMNytY",
        "outputId": "7b6d0a91-ea08-4f97-c0ac-d2661bcc38d0"
      },
      "source": [
        "# check all information of dataframe\n",
        "df.info()"
      ],
      "execution_count": 10,
      "outputs": [
        {
          "output_type": "stream",
          "text": [
            "<class 'pandas.core.frame.DataFrame'>\n",
            "RangeIndex: 1030 entries, 0 to 1029\n",
            "Data columns (total 9 columns):\n",
            " #   Column                                                 Non-Null Count  Dtype  \n",
            "---  ------                                                 --------------  -----  \n",
            " 0   Cement (component 1)(kg in a m^3 mixture)              1030 non-null   float64\n",
            " 1   Blast Furnace Slag (component 2)(kg in a m^3 mixture)  1030 non-null   float64\n",
            " 2   Fly Ash (component 3)(kg in a m^3 mixture)             1030 non-null   float64\n",
            " 3   Water  (component 4)(kg in a m^3 mixture)              1030 non-null   float64\n",
            " 4   Superplasticizer (component 5)(kg in a m^3 mixture)    1030 non-null   float64\n",
            " 5   Coarse Aggregate  (component 6)(kg in a m^3 mixture)   1030 non-null   float64\n",
            " 6   Fine Aggregate (component 7)(kg in a m^3 mixture)      1030 non-null   float64\n",
            " 7   Age (day)                                              1030 non-null   int64  \n",
            " 8   Concrete compressive strength(MPa, megapascals)        1030 non-null   float64\n",
            "dtypes: float64(8), int64(1)\n",
            "memory usage: 72.5 KB\n"
          ],
          "name": "stdout"
        }
      ]
    },
    {
      "cell_type": "code",
      "metadata": {
        "colab": {
          "base_uri": "https://localhost:8080/"
        },
        "id": "qZvVsFS-N_pU",
        "outputId": "085e6664-a23c-4dcc-bd25-bc9760f45673"
      },
      "source": [
        "# to gets columns name\n",
        "df.keys()"
      ],
      "execution_count": 11,
      "outputs": [
        {
          "output_type": "execute_result",
          "data": {
            "text/plain": [
              "Index(['Cement (component 1)(kg in a m^3 mixture)',\n",
              "       'Blast Furnace Slag (component 2)(kg in a m^3 mixture)',\n",
              "       'Fly Ash (component 3)(kg in a m^3 mixture)',\n",
              "       'Water  (component 4)(kg in a m^3 mixture)',\n",
              "       'Superplasticizer (component 5)(kg in a m^3 mixture)',\n",
              "       'Coarse Aggregate  (component 6)(kg in a m^3 mixture)',\n",
              "       'Fine Aggregate (component 7)(kg in a m^3 mixture)', 'Age (day)',\n",
              "       'Concrete compressive strength(MPa, megapascals) '],\n",
              "      dtype='object')"
            ]
          },
          "metadata": {
            "tags": []
          },
          "execution_count": 11
        }
      ]
    },
    {
      "cell_type": "code",
      "metadata": {
        "id": "vvFQE_azOQK8"
      },
      "source": [
        "# split dataframe into input and output\n",
        "data=df.iloc[:,:8]\n",
        "labels=df.iloc[:,-1]"
      ],
      "execution_count": 12,
      "outputs": []
    },
    {
      "cell_type": "code",
      "metadata": {
        "colab": {
          "base_uri": "https://localhost:8080/",
          "height": 1000
        },
        "id": "Wc8lk4WPOVgZ",
        "outputId": "b15295ab-07dd-48e7-edc2-8e2766308fd1"
      },
      "source": [
        "# show all input data in histogram\n",
        "%matplotlib inline\n",
        "import matplotlib.pyplot as plt\n",
        "plt.style.use('seaborn-ticks')\n",
        "pd.DataFrame.hist(data,figsize = [30,30])\n",
        "plt.show()"
      ],
      "execution_count": 13,
      "outputs": [
        {
          "output_type": "display_data",
          "data": {
            "image/png": "[encoded data removed]",
            "text/plain": [
              "<Figure size 2160x2160 with 9 Axes>"
            ]
          },
          "metadata": {
            "tags": []
          }
        }
      ]
    },
    {
      "cell_type": "code",
      "metadata": {
        "id": "uqZVt6ySOaPY"
      },
      "source": [
        "# standardized or normalized the data (input variables)\n",
        "mean = data.mean(axis=0)\n",
        "data-= mean\n",
        "std = data.std(axis=0)\n",
        "data/= std"
      ],
      "execution_count": 14,
      "outputs": []
    },
    {
      "cell_type": "code",
      "metadata": {
        "id": "w-3OGV2AOmYv"
      },
      "source": [
        "# standardized or normalized the data (output variables)\n",
        "labels_mean = labels.mean(axis=0)\n",
        "labels-= labels_mean\n",
        "labels_std = labels.std(axis=0)\n",
        "labels/= labels_std"
      ],
      "execution_count": 15,
      "outputs": []
    },
    {
      "cell_type": "code",
      "metadata": {
        "id": "-yv9x_uuO0KD"
      },
      "source": [
        "# data spliting into train & test\n",
        "X_train=data.sample(frac=0.7,random_state=1)\n",
        "X_test=data.sample(frac=0.3,random_state=1)\n",
        "y_train=labels.sample(frac=0.7,random_state=1)\n",
        "y_test=labels.sample(frac=0.3,random_state=1)"
      ],
      "execution_count": 16,
      "outputs": []
    },
    {
      "cell_type": "code",
      "metadata": {
        "colab": {
          "base_uri": "https://localhost:8080/"
        },
        "id": "IPfvb6lDPABP",
        "outputId": "c1951fd4-aa4a-4ad8-a2db-26cc62c0c557"
      },
      "source": [
        "# check training data and training targets\n",
        "print(f\"Shape of training data :{X_train.shape},\\nShape of training labels:{y_train.shape}\")"
      ],
      "execution_count": 17,
      "outputs": [
        {
          "output_type": "stream",
          "text": [
            "Shape of training data :(721, 8),\n",
            "Shape of training labels:(721,)\n"
          ],
          "name": "stdout"
        }
      ]
    },
    {
      "cell_type": "code",
      "metadata": {
        "colab": {
          "base_uri": "https://localhost:8080/"
        },
        "id": "OHfFV7OGPH58",
        "outputId": "3056a36b-bd4b-4860-f9c6-683ebb0bf9c6"
      },
      "source": [
        "# check testing data and testing targets\n",
        "print(f\"Shape of testing data :{X_test.shape},\\nShape of testing labels:{y_test.shape}\")"
      ],
      "execution_count": 18,
      "outputs": [
        {
          "output_type": "stream",
          "text": [
            "Shape of testing data :(309, 8),\n",
            "Shape of testing labels:(309,)\n"
          ],
          "name": "stdout"
        }
      ]
    },
    {
      "cell_type": "code",
      "metadata": {
        "id": "-0c-f8B3POnE"
      },
      "source": [
        "# convert dataframe into numpy array\n",
        "X_train= np.asarray(X_train).astype('float32')\n",
        "X_test= np.asarray(X_test).astype('float32')\n",
        "#y_train= np.asarray(y_train).astype('float32')\n",
        "#y_test= np.asarray(y_test).astype('float32')"
      ],
      "execution_count": 19,
      "outputs": []
    },
    {
      "cell_type": "code",
      "metadata": {
        "id": "qfctrFcbPZWk"
      },
      "source": [
        "# training data distrubted into validation data\n",
        "val_X = X_train[:230]\n",
        "partial_X_train=X_train[230:]\n",
        "val_y=y_train[:230]\n",
        "partial_y_train=y_train[230:]"
      ],
      "execution_count": 20,
      "outputs": []
    },
    {
      "cell_type": "code",
      "metadata": {
        "id": "8z7s30N6PeTg"
      },
      "source": [
        "# importing models libarires\n",
        "from keras import models, layers , optimizers\n"
      ],
      "execution_count": 21,
      "outputs": []
    },
    {
      "cell_type": "code",
      "metadata": {
        "id": "R9FUwcroPpkz"
      },
      "source": [
        "# model building\n",
        "network=models.Sequential()\n",
        "network.add(tf.keras.layers.Dense(10,activation=\"relu\",input_shape=(X_train.shape[1],)))\n",
        "network.add(tf.keras.layers.Dropout(0.2))\n",
        "network.add(tf.keras.layers.Dense(8,activation=\"relu\"))\n",
        "network.add(tf.keras.layers.Dropout(0.2))\n",
        "network.add(tf.keras.layers.Dense(6,activation=\"relu\"))\n",
        "#network.add(tf.keras.layers.Dropout(0.5))\n",
        "network.add(tf.keras.layers.Dense(1))"
      ],
      "execution_count": 22,
      "outputs": []
    },
    {
      "cell_type": "code",
      "metadata": {
        "colab": {
          "base_uri": "https://localhost:8080/"
        },
        "id": "KnqY4DTWPwhC",
        "outputId": "7a9dfee6-52e2-43d4-ab3e-6964a161cca2"
      },
      "source": [
        "# model summary\n",
        "network.summary()"
      ],
      "execution_count": 23,
      "outputs": [
        {
          "output_type": "stream",
          "text": [
            "Model: \"sequential\"\n",
            "_________________________________________________________________\n",
            "Layer (type)                 Output Shape              Param #   \n",
            "=================================================================\n",
            "dense (Dense)                (None, 10)                90        \n",
            "_________________________________________________________________\n",
            "dropout (Dropout)            (None, 10)                0         \n",
            "_________________________________________________________________\n",
            "dense_1 (Dense)              (None, 8)                 88        \n",
            "_________________________________________________________________\n",
            "dropout_1 (Dropout)          (None, 8)                 0         \n",
            "_________________________________________________________________\n",
            "dense_2 (Dense)              (None, 6)                 54        \n",
            "_________________________________________________________________\n",
            "dense_3 (Dense)              (None, 1)                 7         \n",
            "=================================================================\n",
            "Total params: 239\n",
            "Trainable params: 239\n",
            "Non-trainable params: 0\n",
            "_________________________________________________________________\n"
          ],
          "name": "stdout"
        }
      ]
    },
    {
      "cell_type": "code",
      "metadata": {
        "id": "2eheOxuQP395"
      },
      "source": [
        "# model compiling\n",
        "network.compile(optimizer=optimizers.RMSprop(lr=0.001), loss=\"mse\",metrics=['mae'])"
      ],
      "execution_count": 24,
      "outputs": []
    },
    {
      "cell_type": "code",
      "metadata": {
        "colab": {
          "base_uri": "https://localhost:8080/"
        },
        "id": "xZDS6RGPQB30",
        "outputId": "7baa70c0-c96f-467e-e9be-9c7c654dc9d4"
      },
      "source": [
        " #model training\n",
        "history=network.fit(partial_X_train,partial_y_train,epochs=100,validation_data=(val_X,val_y),batch_size=1,verbose=1)"
      ],
      "execution_count": 25,
      "outputs": [
        {
          "output_type": "stream",
          "text": [
            "Epoch 1/100\n",
            "491/491 [==============================] - 2s 2ms/step - loss: 1.1260 - mae: 0.8300 - val_loss: 0.7592 - val_mae: 0.6832\n",
            "Epoch 2/100\n",
            "491/491 [==============================] - 1s 1ms/step - loss: 0.8664 - mae: 0.7487 - val_loss: 0.6291 - val_mae: 0.6259\n",
            "Epoch 3/100\n",
            "491/491 [==============================] - 1s 1ms/step - loss: 0.8356 - mae: 0.7302 - val_loss: 0.5450 - val_mae: 0.5818\n",
            "Epoch 4/100\n",
            "491/491 [==============================] - 1s 1ms/step - loss: 0.7184 - mae: 0.6483 - val_loss: 0.4894 - val_mae: 0.5496\n",
            "Epoch 5/100\n",
            "491/491 [==============================] - 1s 1ms/step - loss: 0.6025 - mae: 0.6385 - val_loss: 0.4562 - val_mae: 0.5396\n",
            "Epoch 6/100\n",
            "491/491 [==============================] - 1s 1ms/step - loss: 0.6547 - mae: 0.6305 - val_loss: 0.4368 - val_mae: 0.5282\n",
            "Epoch 7/100\n",
            "491/491 [==============================] - 1s 1ms/step - loss: 0.5517 - mae: 0.6077 - val_loss: 0.4192 - val_mae: 0.5204\n",
            "Epoch 8/100\n",
            "491/491 [==============================] - 1s 1ms/step - loss: 0.5710 - mae: 0.5915 - val_loss: 0.4155 - val_mae: 0.5138\n",
            "Epoch 9/100\n",
            "491/491 [==============================] - 1s 1ms/step - loss: 0.5806 - mae: 0.6114 - val_loss: 0.3896 - val_mae: 0.4988\n",
            "Epoch 10/100\n",
            "491/491 [==============================] - 1s 1ms/step - loss: 0.5111 - mae: 0.5631 - val_loss: 0.4016 - val_mae: 0.4996\n",
            "Epoch 11/100\n",
            "491/491 [==============================] - 1s 2ms/step - loss: 0.5836 - mae: 0.5874 - val_loss: 0.3809 - val_mae: 0.4911\n",
            "Epoch 12/100\n",
            "491/491 [==============================] - 1s 1ms/step - loss: 0.4882 - mae: 0.5439 - val_loss: 0.3813 - val_mae: 0.4913\n",
            "Epoch 13/100\n",
            "491/491 [==============================] - 1s 1ms/step - loss: 0.5025 - mae: 0.5463 - val_loss: 0.3737 - val_mae: 0.4843\n",
            "Epoch 14/100\n",
            "491/491 [==============================] - 1s 1ms/step - loss: 0.4963 - mae: 0.5626 - val_loss: 0.3847 - val_mae: 0.4909\n",
            "Epoch 15/100\n",
            "491/491 [==============================] - 1s 2ms/step - loss: 0.4450 - mae: 0.5171 - val_loss: 0.3579 - val_mae: 0.4725\n",
            "Epoch 16/100\n",
            "491/491 [==============================] - 1s 1ms/step - loss: 0.4160 - mae: 0.4926 - val_loss: 0.3538 - val_mae: 0.4694\n",
            "Epoch 17/100\n",
            "491/491 [==============================] - 1s 1ms/step - loss: 0.4383 - mae: 0.5139 - val_loss: 0.3457 - val_mae: 0.4583\n",
            "Epoch 18/100\n",
            "491/491 [==============================] - 1s 2ms/step - loss: 0.4021 - mae: 0.4924 - val_loss: 0.3410 - val_mae: 0.4564\n",
            "Epoch 19/100\n",
            "491/491 [==============================] - 1s 2ms/step - loss: 0.4906 - mae: 0.5315 - val_loss: 0.3718 - val_mae: 0.4693\n",
            "Epoch 20/100\n",
            "491/491 [==============================] - 1s 1ms/step - loss: 0.4678 - mae: 0.5190 - val_loss: 0.3469 - val_mae: 0.4611\n",
            "Epoch 21/100\n",
            "491/491 [==============================] - 1s 1ms/step - loss: 0.4508 - mae: 0.5113 - val_loss: 0.3418 - val_mae: 0.4586\n",
            "Epoch 22/100\n",
            "491/491 [==============================] - 1s 1ms/step - loss: 0.3867 - mae: 0.4816 - val_loss: 0.3507 - val_mae: 0.4699\n",
            "Epoch 23/100\n",
            "491/491 [==============================] - 1s 1ms/step - loss: 0.3656 - mae: 0.4500 - val_loss: 0.3376 - val_mae: 0.4495\n",
            "Epoch 24/100\n",
            "491/491 [==============================] - 1s 1ms/step - loss: 0.4403 - mae: 0.5037 - val_loss: 0.3488 - val_mae: 0.4517\n",
            "Epoch 25/100\n",
            "491/491 [==============================] - 1s 1ms/step - loss: 0.3730 - mae: 0.4676 - val_loss: 0.3325 - val_mae: 0.4495\n",
            "Epoch 26/100\n",
            "491/491 [==============================] - 1s 1ms/step - loss: 0.4469 - mae: 0.4945 - val_loss: 0.3232 - val_mae: 0.4375\n",
            "Epoch 27/100\n",
            "491/491 [==============================] - 1s 1ms/step - loss: 0.4275 - mae: 0.5000 - val_loss: 0.3233 - val_mae: 0.4422\n",
            "Epoch 28/100\n",
            "491/491 [==============================] - 1s 1ms/step - loss: 0.3562 - mae: 0.4443 - val_loss: 0.3225 - val_mae: 0.4381\n",
            "Epoch 29/100\n",
            "491/491 [==============================] - 1s 1ms/step - loss: 0.3887 - mae: 0.4732 - val_loss: 0.3216 - val_mae: 0.4442\n",
            "Epoch 30/100\n",
            "491/491 [==============================] - 1s 1ms/step - loss: 0.3704 - mae: 0.4675 - val_loss: 0.3211 - val_mae: 0.4436\n",
            "Epoch 31/100\n",
            "491/491 [==============================] - 1s 1ms/step - loss: 0.3882 - mae: 0.4854 - val_loss: 0.3216 - val_mae: 0.4411\n",
            "Epoch 32/100\n",
            "491/491 [==============================] - 1s 1ms/step - loss: 0.3273 - mae: 0.4142 - val_loss: 0.3153 - val_mae: 0.4417\n",
            "Epoch 33/100\n",
            "491/491 [==============================] - 1s 1ms/step - loss: 0.3752 - mae: 0.4856 - val_loss: 0.3043 - val_mae: 0.4342\n",
            "Epoch 34/100\n",
            "491/491 [==============================] - 1s 1ms/step - loss: 0.3814 - mae: 0.4778 - val_loss: 0.3111 - val_mae: 0.4368\n",
            "Epoch 35/100\n",
            "491/491 [==============================] - 1s 2ms/step - loss: 0.3600 - mae: 0.4570 - val_loss: 0.2983 - val_mae: 0.4258\n",
            "Epoch 36/100\n",
            "491/491 [==============================] - 1s 1ms/step - loss: 0.3515 - mae: 0.4425 - val_loss: 0.2964 - val_mae: 0.4238\n",
            "Epoch 37/100\n",
            "491/491 [==============================] - 1s 1ms/step - loss: 0.3395 - mae: 0.4365 - val_loss: 0.3110 - val_mae: 0.4369\n",
            "Epoch 38/100\n",
            "491/491 [==============================] - 1s 1ms/step - loss: 0.3364 - mae: 0.4358 - val_loss: 0.3062 - val_mae: 0.4238\n",
            "Epoch 39/100\n",
            "491/491 [==============================] - 1s 1ms/step - loss: 0.3965 - mae: 0.4685 - val_loss: 0.3047 - val_mae: 0.4310\n",
            "Epoch 40/100\n",
            "491/491 [==============================] - 1s 1ms/step - loss: 0.3422 - mae: 0.4358 - val_loss: 0.3055 - val_mae: 0.4280\n",
            "Epoch 41/100\n",
            "491/491 [==============================] - 1s 1ms/step - loss: 0.4023 - mae: 0.5027 - val_loss: 0.3010 - val_mae: 0.4230\n",
            "Epoch 42/100\n",
            "491/491 [==============================] - 1s 1ms/step - loss: 0.3212 - mae: 0.4231 - val_loss: 0.3082 - val_mae: 0.4390\n",
            "Epoch 43/100\n",
            "491/491 [==============================] - 1s 1ms/step - loss: 0.3348 - mae: 0.4368 - val_loss: 0.3037 - val_mae: 0.4332\n",
            "Epoch 44/100\n",
            "491/491 [==============================] - 1s 1ms/step - loss: 0.3317 - mae: 0.4469 - val_loss: 0.2993 - val_mae: 0.4308\n",
            "Epoch 45/100\n",
            "491/491 [==============================] - 1s 1ms/step - loss: 0.3108 - mae: 0.4235 - val_loss: 0.2947 - val_mae: 0.4296\n",
            "Epoch 46/100\n",
            "491/491 [==============================] - 1s 1ms/step - loss: 0.3740 - mae: 0.4595 - val_loss: 0.2823 - val_mae: 0.4155\n",
            "Epoch 47/100\n",
            "491/491 [==============================] - 1s 1ms/step - loss: 0.3530 - mae: 0.4598 - val_loss: 0.2934 - val_mae: 0.4191\n",
            "Epoch 48/100\n",
            "491/491 [==============================] - 1s 1ms/step - loss: 0.3594 - mae: 0.4552 - val_loss: 0.2985 - val_mae: 0.4299\n",
            "Epoch 49/100\n",
            "491/491 [==============================] - 1s 1ms/step - loss: 0.3299 - mae: 0.4372 - val_loss: 0.2943 - val_mae: 0.4261\n",
            "Epoch 50/100\n",
            "491/491 [==============================] - 1s 2ms/step - loss: 0.2868 - mae: 0.4151 - val_loss: 0.3029 - val_mae: 0.4248\n",
            "Epoch 51/100\n",
            "491/491 [==============================] - 1s 1ms/step - loss: 0.3062 - mae: 0.4251 - val_loss: 0.2884 - val_mae: 0.4204\n",
            "Epoch 52/100\n",
            "491/491 [==============================] - 1s 2ms/step - loss: 0.3249 - mae: 0.4380 - val_loss: 0.3027 - val_mae: 0.4407\n",
            "Epoch 53/100\n",
            "491/491 [==============================] - 1s 1ms/step - loss: 0.3343 - mae: 0.4370 - val_loss: 0.2760 - val_mae: 0.4113\n",
            "Epoch 54/100\n",
            "491/491 [==============================] - 1s 1ms/step - loss: 0.2805 - mae: 0.4069 - val_loss: 0.2734 - val_mae: 0.4136\n",
            "Epoch 55/100\n",
            "491/491 [==============================] - 1s 2ms/step - loss: 0.3348 - mae: 0.4203 - val_loss: 0.2773 - val_mae: 0.4155\n",
            "Epoch 56/100\n",
            "491/491 [==============================] - 1s 1ms/step - loss: 0.2844 - mae: 0.4106 - val_loss: 0.2830 - val_mae: 0.4128\n",
            "Epoch 57/100\n",
            "491/491 [==============================] - 1s 1ms/step - loss: 0.3059 - mae: 0.4039 - val_loss: 0.2838 - val_mae: 0.4169\n",
            "Epoch 58/100\n",
            "491/491 [==============================] - 1s 1ms/step - loss: 0.2729 - mae: 0.4002 - val_loss: 0.2860 - val_mae: 0.4163\n",
            "Epoch 59/100\n",
            "491/491 [==============================] - 1s 1ms/step - loss: 0.3100 - mae: 0.4322 - val_loss: 0.2901 - val_mae: 0.4237\n",
            "Epoch 60/100\n",
            "491/491 [==============================] - 1s 2ms/step - loss: 0.2676 - mae: 0.3961 - val_loss: 0.2782 - val_mae: 0.4114\n",
            "Epoch 61/100\n",
            "491/491 [==============================] - 1s 1ms/step - loss: 0.2576 - mae: 0.3831 - val_loss: 0.2801 - val_mae: 0.4162\n",
            "Epoch 62/100\n",
            "491/491 [==============================] - 1s 1ms/step - loss: 0.3343 - mae: 0.4345 - val_loss: 0.2631 - val_mae: 0.4032\n",
            "Epoch 63/100\n",
            "491/491 [==============================] - 1s 1ms/step - loss: 0.2624 - mae: 0.3923 - val_loss: 0.2765 - val_mae: 0.4103\n",
            "Epoch 64/100\n",
            "491/491 [==============================] - 1s 2ms/step - loss: 0.2896 - mae: 0.4161 - val_loss: 0.2609 - val_mae: 0.4008\n",
            "Epoch 65/100\n",
            "491/491 [==============================] - 1s 1ms/step - loss: 0.3332 - mae: 0.4316 - val_loss: 0.2876 - val_mae: 0.4230\n",
            "Epoch 66/100\n",
            "491/491 [==============================] - 1s 1ms/step - loss: 0.3151 - mae: 0.4136 - val_loss: 0.2733 - val_mae: 0.4170\n",
            "Epoch 67/100\n",
            "491/491 [==============================] - 1s 1ms/step - loss: 0.2842 - mae: 0.4183 - val_loss: 0.2911 - val_mae: 0.4227\n",
            "Epoch 68/100\n",
            "491/491 [==============================] - 1s 2ms/step - loss: 0.3483 - mae: 0.4355 - val_loss: 0.2750 - val_mae: 0.4116\n",
            "Epoch 69/100\n",
            "491/491 [==============================] - 1s 1ms/step - loss: 0.3044 - mae: 0.4248 - val_loss: 0.2794 - val_mae: 0.4258\n",
            "Epoch 70/100\n",
            "491/491 [==============================] - 1s 1ms/step - loss: 0.2800 - mae: 0.4093 - val_loss: 0.2897 - val_mae: 0.4251\n",
            "Epoch 71/100\n",
            "491/491 [==============================] - 1s 1ms/step - loss: 0.3209 - mae: 0.4248 - val_loss: 0.2802 - val_mae: 0.4210\n",
            "Epoch 72/100\n",
            "491/491 [==============================] - 1s 1ms/step - loss: 0.3067 - mae: 0.4026 - val_loss: 0.2838 - val_mae: 0.4226\n",
            "Epoch 73/100\n",
            "491/491 [==============================] - 1s 2ms/step - loss: 0.3217 - mae: 0.4231 - val_loss: 0.2895 - val_mae: 0.4307\n",
            "Epoch 74/100\n",
            "491/491 [==============================] - 1s 1ms/step - loss: 0.3301 - mae: 0.4340 - val_loss: 0.2969 - val_mae: 0.4241\n",
            "Epoch 75/100\n",
            "491/491 [==============================] - 1s 2ms/step - loss: 0.2765 - mae: 0.3950 - val_loss: 0.2834 - val_mae: 0.4275\n",
            "Epoch 76/100\n",
            "491/491 [==============================] - 1s 1ms/step - loss: 0.2841 - mae: 0.3906 - val_loss: 0.2918 - val_mae: 0.4202\n",
            "Epoch 77/100\n",
            "491/491 [==============================] - 1s 1ms/step - loss: 0.2782 - mae: 0.4097 - val_loss: 0.2678 - val_mae: 0.4010\n",
            "Epoch 78/100\n",
            "491/491 [==============================] - 1s 1ms/step - loss: 0.2941 - mae: 0.4008 - val_loss: 0.2693 - val_mae: 0.4056\n",
            "Epoch 79/100\n",
            "491/491 [==============================] - 1s 1ms/step - loss: 0.3023 - mae: 0.4153 - val_loss: 0.2948 - val_mae: 0.4306\n",
            "Epoch 80/100\n",
            "491/491 [==============================] - 1s 1ms/step - loss: 0.3370 - mae: 0.4274 - val_loss: 0.3037 - val_mae: 0.4444\n",
            "Epoch 81/100\n",
            "491/491 [==============================] - 1s 2ms/step - loss: 0.2934 - mae: 0.3903 - val_loss: 0.3011 - val_mae: 0.4359\n",
            "Epoch 82/100\n",
            "491/491 [==============================] - 1s 1ms/step - loss: 0.2696 - mae: 0.3953 - val_loss: 0.2675 - val_mae: 0.4104\n",
            "Epoch 83/100\n",
            "491/491 [==============================] - 1s 1ms/step - loss: 0.2505 - mae: 0.3900 - val_loss: 0.2943 - val_mae: 0.4357\n",
            "Epoch 84/100\n",
            "491/491 [==============================] - 1s 1ms/step - loss: 0.3238 - mae: 0.4126 - val_loss: 0.2873 - val_mae: 0.4291\n",
            "Epoch 85/100\n",
            "491/491 [==============================] - 1s 1ms/step - loss: 0.2754 - mae: 0.3873 - val_loss: 0.2978 - val_mae: 0.4400\n",
            "Epoch 86/100\n",
            "491/491 [==============================] - 1s 1ms/step - loss: 0.2460 - mae: 0.3825 - val_loss: 0.2991 - val_mae: 0.4396\n",
            "Epoch 87/100\n",
            "491/491 [==============================] - 1s 1ms/step - loss: 0.3004 - mae: 0.4158 - val_loss: 0.2897 - val_mae: 0.4297\n",
            "Epoch 88/100\n",
            "491/491 [==============================] - 1s 1ms/step - loss: 0.2561 - mae: 0.3810 - val_loss: 0.3061 - val_mae: 0.4350\n",
            "Epoch 89/100\n",
            "491/491 [==============================] - 1s 1ms/step - loss: 0.3362 - mae: 0.4377 - val_loss: 0.2801 - val_mae: 0.4150\n",
            "Epoch 90/100\n",
            "491/491 [==============================] - 1s 2ms/step - loss: 0.2838 - mae: 0.4102 - val_loss: 0.2750 - val_mae: 0.4134\n",
            "Epoch 91/100\n",
            "491/491 [==============================] - 1s 1ms/step - loss: 0.2392 - mae: 0.3774 - val_loss: 0.2575 - val_mae: 0.3986\n",
            "Epoch 92/100\n",
            "491/491 [==============================] - 1s 2ms/step - loss: 0.3025 - mae: 0.4071 - val_loss: 0.2977 - val_mae: 0.4349\n",
            "Epoch 93/100\n",
            "491/491 [==============================] - 1s 1ms/step - loss: 0.2543 - mae: 0.3904 - val_loss: 0.3047 - val_mae: 0.4391\n",
            "Epoch 94/100\n",
            "491/491 [==============================] - 1s 2ms/step - loss: 0.2386 - mae: 0.3807 - val_loss: 0.2781 - val_mae: 0.4137\n",
            "Epoch 95/100\n",
            "491/491 [==============================] - 1s 1ms/step - loss: 0.2852 - mae: 0.4001 - val_loss: 0.3069 - val_mae: 0.4292\n",
            "Epoch 96/100\n",
            "491/491 [==============================] - 1s 1ms/step - loss: 0.2618 - mae: 0.3977 - val_loss: 0.3200 - val_mae: 0.4487\n",
            "Epoch 97/100\n",
            "491/491 [==============================] - 1s 1ms/step - loss: 0.2927 - mae: 0.3907 - val_loss: 0.2877 - val_mae: 0.4262\n",
            "Epoch 98/100\n",
            "491/491 [==============================] - 1s 1ms/step - loss: 0.2530 - mae: 0.3760 - val_loss: 0.2721 - val_mae: 0.4103\n",
            "Epoch 99/100\n",
            "491/491 [==============================] - 1s 1ms/step - loss: 0.2755 - mae: 0.4006 - val_loss: 0.2873 - val_mae: 0.4147\n",
            "Epoch 100/100\n",
            "491/491 [==============================] - 1s 1ms/step - loss: 0.2281 - mae: 0.3745 - val_loss: 0.3200 - val_mae: 0.4471\n"
          ],
          "name": "stdout"
        }
      ]
    },
    {
      "cell_type": "code",
      "metadata": {
        "colab": {
          "base_uri": "https://localhost:8080/",
          "height": 297
        },
        "id": "9r8dN_VqQOip",
        "outputId": "e288206c-afda-4757-bd17-abe82acf67b1"
      },
      "source": [
        "# show training and validation MAE\n",
        "y1=history.history['mae']\n",
        "x1=history.history['val_mae']\n",
        "x=range(100)\n",
        "plt.scatter(x,y1 , label= \"TRAINING MAE Score\", color= \"green\", marker= \"*\")\n",
        "plt.scatter(x,x1, label= \"VALIdation MAE Score\", color= \"r\")\n",
        "plt.xlabel('Epochs')\n",
        "plt.ylabel('Mean Absoulte Error')\n",
        "plt.title('TRAINING MAE AND validation MAE!')\n",
        "plt.legend()\n",
        "plt.grid()\n",
        "plt.show()"
      ],
      "execution_count": 26,
      "outputs": [
        {
          "output_type": "display_data",
          "data": {
            "image/png": "[encoded data removed]",
            "text/plain": [
              "<Figure size 432x288 with 1 Axes>"
            ]
          },
          "metadata": {
            "tags": []
          }
        }
      ]
    },
    {
      "cell_type": "code",
      "metadata": {
        "colab": {
          "base_uri": "https://localhost:8080/",
          "height": 297
        },
        "id": "Nj_CcUulQe3n",
        "outputId": "39500ab5-a787-4307-f70d-9613156859af"
      },
      "source": [
        "#show training and validation loss in graph\n",
        "loss = history.history['loss']\n",
        "val_loss = history.history['val_loss']\n",
        "epochs = range(1, len(loss) + 1)\n",
        "plt.plot(epochs, loss, 'r',marker=\"+\", label='Training loss')\n",
        "plt.plot(epochs, val_loss, 'b', label='Validation loss')\n",
        "plt.title('Training and validation loss')\n",
        "plt.xlabel('Epochs')\n",
        "plt.ylabel('Loss')\n",
        "plt.legend()\n",
        "plt.grid()\n",
        "plt.show()"
      ],
      "execution_count": 27,
      "outputs": [
        {
          "output_type": "display_data",
          "data": {
            "image/png": "[encoded data removed]",
            "text/plain": [
              "<Figure size 432x288 with 1 Axes>"
            ]
          },
          "metadata": {
            "tags": []
          }
        }
      ]
    },
    {
      "cell_type": "code",
      "metadata": {
        "colab": {
          "base_uri": "https://localhost:8080/"
        },
        "id": "-YtP0pQ1Qm2G",
        "outputId": "d3c92d83-aa0f-4ecc-a814-2ab39fa63c12"
      },
      "source": [
        "# model evaluating on test data & label\n",
        "test_mse_score, test_mae_score = network.evaluate(X_test, y_test)\n"
      ],
      "execution_count": 28,
      "outputs": [
        {
          "output_type": "stream",
          "text": [
            "10/10 [==============================] - 0s 2ms/step - loss: 0.3177 - mae: 0.4483\n"
          ],
          "name": "stdout"
        }
      ]
    },
    {
      "cell_type": "code",
      "metadata": {
        "colab": {
          "base_uri": "https://localhost:8080/"
        },
        "id": "en9Q6iXYQsim",
        "outputId": "309c0dfe-8ade-43b9-e52f-628237f59b8b"
      },
      "source": [
        "# check test mean squared error\n",
        "test_mse_score"
      ],
      "execution_count": 29,
      "outputs": [
        {
          "output_type": "execute_result",
          "data": {
            "text/plain": [
              "0.31769007444381714"
            ]
          },
          "metadata": {
            "tags": []
          },
          "execution_count": 29
        }
      ]
    },
    {
      "cell_type": "code",
      "metadata": {
        "colab": {
          "base_uri": "https://localhost:8080/"
        },
        "id": "AqHntnnkQx9x",
        "outputId": "97b829c3-30a8-4069-bdc5-eca56a798d35"
      },
      "source": [
        "# check test mean absoulte error\n",
        "test_mae_score"
      ],
      "execution_count": 30,
      "outputs": [
        {
          "output_type": "execute_result",
          "data": {
            "text/plain": [
              "0.4482676088809967"
            ]
          },
          "metadata": {
            "tags": []
          },
          "execution_count": 30
        }
      ]
    },
    {
      "cell_type": "code",
      "metadata": {
        "id": "pwyPKD15Q264"
      },
      "source": [
        " #check presdictions on testing data\n",
        "y_pred = network.predict(X_test)\n",
        "y_pred=y_pred*labels_std+labels_mean"
      ],
      "execution_count": 31,
      "outputs": []
    },
    {
      "cell_type": "code",
      "metadata": {
        "colab": {
          "base_uri": "https://localhost:8080/",
          "height": 336
        },
        "id": "OMnyYB0tRMBe",
        "outputId": "6f020662-2b3a-4e23-f320-4d4d39d55586"
      },
      "source": [
        "# check ploting of aggreted and actual values\n",
        "plt.figure(figsize=(20,5))\n",
        "plt.subplot(1, 2, 1 )\n",
        "plt.hist(labels)\n",
        "plt.xlabel('Original target value')\n",
        "plt.ylabel('count')\n",
        "plt.subplot(1, 2, 2)\n",
        "plt.hist(y_pred)\n",
        "plt.xlabel('Aggregated target value')\n",
        "plt.show()"
      ],
      "execution_count": 32,
      "outputs": [
        {
          "output_type": "display_data",
          "data": {
            "image/png": "[encoded data removed]",
            "text/plain": [
              "<Figure size 1440x360 with 2 Axes>"
            ]
          },
          "metadata": {
            "tags": []
          }
        }
      ]
    }
  ]
}