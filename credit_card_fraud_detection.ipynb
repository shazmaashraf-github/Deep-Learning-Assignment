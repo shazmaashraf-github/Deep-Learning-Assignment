{
  "nbformat": 4,
  "nbformat_minor": 0,
  "metadata": {
    "colab": {
      "name": "credit card fraud detection.ipynb",
      "provenance": [],
      "collapsed_sections": []
    },
    "kernelspec": {
      "name": "python3",
      "display_name": "Python 3"
    },
    "language_info": {
      "name": "python"
    }
  },
  "cells": [
    {
      "cell_type": "code",
      "metadata": {
        "id": "bsKZew6HSMu2"
      },
      "source": [
        "# importing libaraies\n",
        "import numpy as np\n",
        "import pandas as pd\n",
        "import matplotlib.pyplot as plt"
      ],
      "execution_count": 33,
      "outputs": []
    },
    {
      "cell_type": "code",
      "metadata": {
        "colab": {
          "base_uri": "https://localhost:8080/"
        },
        "id": "bxRYWim0SwHl",
        "outputId": "42379ac5-c6a0-4198-8eaf-0d3a733d54da"
      },
      "source": [
        "from google.colab import drive\n",
        "drive.mount('/content/drive')"
      ],
      "execution_count": 34,
      "outputs": [
        {
          "output_type": "stream",
          "text": [
            "Drive already mounted at /content/drive; to attempt to forcibly remount, call drive.mount(\"/content/drive\", force_remount=True).\n"
          ],
          "name": "stdout"
        }
      ]
    },
    {
      "cell_type": "code",
      "metadata": {
        "colab": {
          "base_uri": "https://localhost:8080/",
          "height": 224
        },
        "id": "rUdzOc-HS0v6",
        "outputId": "714a0b75-946b-46d2-81b8-b9c688c88c26"
      },
      "source": [
        "# data loading and reading\n",
        "card=pd.read_csv(\"/content/drive/MyDrive/creditcard.csv\")\n",
        "card.head()"
      ],
      "execution_count": 72,
      "outputs": [
        {
          "output_type": "execute_result",
          "data": {
            "text/html": [
              "<div>\n",
              "<style scoped>\n",
              "    .dataframe tbody tr th:only-of-type {\n",
              "        vertical-align: middle;\n",
              "    }\n",
              "\n",
              "    .dataframe tbody tr th {\n",
              "        vertical-align: top;\n",
              "    }\n",
              "\n",
              "    .dataframe thead th {\n",
              "        text-align: right;\n",
              "    }\n",
              "</style>\n",
              "<table border=\"1\" class=\"dataframe\">\n",
              "  <thead>\n",
              "    <tr style=\"text-align: right;\">\n",
              "      <th></th>\n",
              "      <th>Time</th>\n",
              "      <th>V1</th>\n",
              "      <th>V2</th>\n",
              "      <th>V3</th>\n",
              "      <th>V4</th>\n",
              "      <th>V5</th>\n",
              "      <th>V6</th>\n",
              "      <th>V7</th>\n",
              "      <th>V8</th>\n",
              "      <th>V9</th>\n",
              "      <th>V10</th>\n",
              "      <th>V11</th>\n",
              "      <th>V12</th>\n",
              "      <th>V13</th>\n",
              "      <th>V14</th>\n",
              "      <th>V15</th>\n",
              "      <th>V16</th>\n",
              "      <th>V17</th>\n",
              "      <th>V18</th>\n",
              "      <th>V19</th>\n",
              "      <th>V20</th>\n",
              "      <th>V21</th>\n",
              "      <th>V22</th>\n",
              "      <th>V23</th>\n",
              "      <th>V24</th>\n",
              "      <th>V25</th>\n",
              "      <th>V26</th>\n",
              "      <th>V27</th>\n",
              "      <th>V28</th>\n",
              "      <th>Amount</th>\n",
              "      <th>Class</th>\n",
              "    </tr>\n",
              "  </thead>\n",
              "  <tbody>\n",
              "    <tr>\n",
              "      <th>0</th>\n",
              "      <td>0.0</td>\n",
              "      <td>-1.359807</td>\n",
              "      <td>-0.072781</td>\n",
              "      <td>2.536347</td>\n",
              "      <td>1.378155</td>\n",
              "      <td>-0.338321</td>\n",
              "      <td>0.462388</td>\n",
              "      <td>0.239599</td>\n",
              "      <td>0.098698</td>\n",
              "      <td>0.363787</td>\n",
              "      <td>0.090794</td>\n",
              "      <td>-0.551600</td>\n",
              "      <td>-0.617801</td>\n",
              "      <td>-0.991390</td>\n",
              "      <td>-0.311169</td>\n",
              "      <td>1.468177</td>\n",
              "      <td>-0.470401</td>\n",
              "      <td>0.207971</td>\n",
              "      <td>0.025791</td>\n",
              "      <td>0.403993</td>\n",
              "      <td>0.251412</td>\n",
              "      <td>-0.018307</td>\n",
              "      <td>0.277838</td>\n",
              "      <td>-0.110474</td>\n",
              "      <td>0.066928</td>\n",
              "      <td>0.128539</td>\n",
              "      <td>-0.189115</td>\n",
              "      <td>0.133558</td>\n",
              "      <td>-0.021053</td>\n",
              "      <td>149.62</td>\n",
              "      <td>0.0</td>\n",
              "    </tr>\n",
              "    <tr>\n",
              "      <th>1</th>\n",
              "      <td>0.0</td>\n",
              "      <td>1.191857</td>\n",
              "      <td>0.266151</td>\n",
              "      <td>0.166480</td>\n",
              "      <td>0.448154</td>\n",
              "      <td>0.060018</td>\n",
              "      <td>-0.082361</td>\n",
              "      <td>-0.078803</td>\n",
              "      <td>0.085102</td>\n",
              "      <td>-0.255425</td>\n",
              "      <td>-0.166974</td>\n",
              "      <td>1.612727</td>\n",
              "      <td>1.065235</td>\n",
              "      <td>0.489095</td>\n",
              "      <td>-0.143772</td>\n",
              "      <td>0.635558</td>\n",
              "      <td>0.463917</td>\n",
              "      <td>-0.114805</td>\n",
              "      <td>-0.183361</td>\n",
              "      <td>-0.145783</td>\n",
              "      <td>-0.069083</td>\n",
              "      <td>-0.225775</td>\n",
              "      <td>-0.638672</td>\n",
              "      <td>0.101288</td>\n",
              "      <td>-0.339846</td>\n",
              "      <td>0.167170</td>\n",
              "      <td>0.125895</td>\n",
              "      <td>-0.008983</td>\n",
              "      <td>0.014724</td>\n",
              "      <td>2.69</td>\n",
              "      <td>0.0</td>\n",
              "    </tr>\n",
              "    <tr>\n",
              "      <th>2</th>\n",
              "      <td>1.0</td>\n",
              "      <td>-1.358354</td>\n",
              "      <td>-1.340163</td>\n",
              "      <td>1.773209</td>\n",
              "      <td>0.379780</td>\n",
              "      <td>-0.503198</td>\n",
              "      <td>1.800499</td>\n",
              "      <td>0.791461</td>\n",
              "      <td>0.247676</td>\n",
              "      <td>-1.514654</td>\n",
              "      <td>0.207643</td>\n",
              "      <td>0.624501</td>\n",
              "      <td>0.066084</td>\n",
              "      <td>0.717293</td>\n",
              "      <td>-0.165946</td>\n",
              "      <td>2.345865</td>\n",
              "      <td>-2.890083</td>\n",
              "      <td>1.109969</td>\n",
              "      <td>-0.121359</td>\n",
              "      <td>-2.261857</td>\n",
              "      <td>0.524980</td>\n",
              "      <td>0.247998</td>\n",
              "      <td>0.771679</td>\n",
              "      <td>0.909412</td>\n",
              "      <td>-0.689281</td>\n",
              "      <td>-0.327642</td>\n",
              "      <td>-0.139097</td>\n",
              "      <td>-0.055353</td>\n",
              "      <td>-0.059752</td>\n",
              "      <td>378.66</td>\n",
              "      <td>0.0</td>\n",
              "    </tr>\n",
              "    <tr>\n",
              "      <th>3</th>\n",
              "      <td>1.0</td>\n",
              "      <td>-0.966272</td>\n",
              "      <td>-0.185226</td>\n",
              "      <td>1.792993</td>\n",
              "      <td>-0.863291</td>\n",
              "      <td>-0.010309</td>\n",
              "      <td>1.247203</td>\n",
              "      <td>0.237609</td>\n",
              "      <td>0.377436</td>\n",
              "      <td>-1.387024</td>\n",
              "      <td>-0.054952</td>\n",
              "      <td>-0.226487</td>\n",
              "      <td>0.178228</td>\n",
              "      <td>0.507757</td>\n",
              "      <td>-0.287924</td>\n",
              "      <td>-0.631418</td>\n",
              "      <td>-1.059647</td>\n",
              "      <td>-0.684093</td>\n",
              "      <td>1.965775</td>\n",
              "      <td>-1.232622</td>\n",
              "      <td>-0.208038</td>\n",
              "      <td>-0.108300</td>\n",
              "      <td>0.005274</td>\n",
              "      <td>-0.190321</td>\n",
              "      <td>-1.175575</td>\n",
              "      <td>0.647376</td>\n",
              "      <td>-0.221929</td>\n",
              "      <td>0.062723</td>\n",
              "      <td>0.061458</td>\n",
              "      <td>123.50</td>\n",
              "      <td>0.0</td>\n",
              "    </tr>\n",
              "    <tr>\n",
              "      <th>4</th>\n",
              "      <td>2.0</td>\n",
              "      <td>-1.158233</td>\n",
              "      <td>0.877737</td>\n",
              "      <td>1.548718</td>\n",
              "      <td>0.403034</td>\n",
              "      <td>-0.407193</td>\n",
              "      <td>0.095921</td>\n",
              "      <td>0.592941</td>\n",
              "      <td>-0.270533</td>\n",
              "      <td>0.817739</td>\n",
              "      <td>0.753074</td>\n",
              "      <td>-0.822843</td>\n",
              "      <td>0.538196</td>\n",
              "      <td>1.345852</td>\n",
              "      <td>-1.119670</td>\n",
              "      <td>0.175121</td>\n",
              "      <td>-0.451449</td>\n",
              "      <td>-0.237033</td>\n",
              "      <td>-0.038195</td>\n",
              "      <td>0.803487</td>\n",
              "      <td>0.408542</td>\n",
              "      <td>-0.009431</td>\n",
              "      <td>0.798278</td>\n",
              "      <td>-0.137458</td>\n",
              "      <td>0.141267</td>\n",
              "      <td>-0.206010</td>\n",
              "      <td>0.502292</td>\n",
              "      <td>0.219422</td>\n",
              "      <td>0.215153</td>\n",
              "      <td>69.99</td>\n",
              "      <td>0.0</td>\n",
              "    </tr>\n",
              "  </tbody>\n",
              "</table>\n",
              "</div>"
            ],
            "text/plain": [
              "   Time        V1        V2        V3  ...       V27       V28  Amount  Class\n",
              "0   0.0 -1.359807 -0.072781  2.536347  ...  0.133558 -0.021053  149.62    0.0\n",
              "1   0.0  1.191857  0.266151  0.166480  ... -0.008983  0.014724    2.69    0.0\n",
              "2   1.0 -1.358354 -1.340163  1.773209  ... -0.055353 -0.059752  378.66    0.0\n",
              "3   1.0 -0.966272 -0.185226  1.792993  ...  0.062723  0.061458  123.50    0.0\n",
              "4   2.0 -1.158233  0.877737  1.548718  ...  0.219422  0.215153   69.99    0.0\n",
              "\n",
              "[5 rows x 31 columns]"
            ]
          },
          "metadata": {
            "tags": []
          },
          "execution_count": 72
        }
      ]
    },
    {
      "cell_type": "code",
      "metadata": {
        "colab": {
          "base_uri": "https://localhost:8080/",
          "height": 317
        },
        "id": "HeisAfH4VHmj",
        "outputId": "a4d1554e-7de6-49ef-fcce-44f8d4f82361"
      },
      "source": [
        "# statistcal description of dataframe\n",
        "card.describe()"
      ],
      "execution_count": 39,
      "outputs": [
        {
          "output_type": "execute_result",
          "data": {
            "text/html": [
              "<div>\n",
              "<style scoped>\n",
              "    .dataframe tbody tr th:only-of-type {\n",
              "        vertical-align: middle;\n",
              "    }\n",
              "\n",
              "    .dataframe tbody tr th {\n",
              "        vertical-align: top;\n",
              "    }\n",
              "\n",
              "    .dataframe thead th {\n",
              "        text-align: right;\n",
              "    }\n",
              "</style>\n",
              "<table border=\"1\" class=\"dataframe\">\n",
              "  <thead>\n",
              "    <tr style=\"text-align: right;\">\n",
              "      <th></th>\n",
              "      <th>Time</th>\n",
              "      <th>V1</th>\n",
              "      <th>V2</th>\n",
              "      <th>V3</th>\n",
              "      <th>V4</th>\n",
              "      <th>V5</th>\n",
              "      <th>V6</th>\n",
              "      <th>V7</th>\n",
              "      <th>V8</th>\n",
              "      <th>V9</th>\n",
              "      <th>V10</th>\n",
              "      <th>V11</th>\n",
              "      <th>V12</th>\n",
              "      <th>V13</th>\n",
              "      <th>V14</th>\n",
              "      <th>V15</th>\n",
              "      <th>V16</th>\n",
              "      <th>V17</th>\n",
              "      <th>V18</th>\n",
              "      <th>V19</th>\n",
              "      <th>V20</th>\n",
              "      <th>V21</th>\n",
              "      <th>V23</th>\n",
              "      <th>V24</th>\n",
              "      <th>V25</th>\n",
              "      <th>V26</th>\n",
              "      <th>V27</th>\n",
              "      <th>V28</th>\n",
              "      <th>Amount</th>\n",
              "      <th>Class</th>\n",
              "    </tr>\n",
              "  </thead>\n",
              "  <tbody>\n",
              "    <tr>\n",
              "      <th>count</th>\n",
              "      <td>33760.000000</td>\n",
              "      <td>33760.000000</td>\n",
              "      <td>33760.000000</td>\n",
              "      <td>33760.000000</td>\n",
              "      <td>33760.000000</td>\n",
              "      <td>33760.000000</td>\n",
              "      <td>33760.000000</td>\n",
              "      <td>33760.000000</td>\n",
              "      <td>33760.000000</td>\n",
              "      <td>33760.000000</td>\n",
              "      <td>33760.000000</td>\n",
              "      <td>33760.000000</td>\n",
              "      <td>33760.000000</td>\n",
              "      <td>33760.000000</td>\n",
              "      <td>33760.000000</td>\n",
              "      <td>33760.000000</td>\n",
              "      <td>33760.000000</td>\n",
              "      <td>33760.000000</td>\n",
              "      <td>33760.000000</td>\n",
              "      <td>33760.000000</td>\n",
              "      <td>33760.000000</td>\n",
              "      <td>33760.000000</td>\n",
              "      <td>33759.000000</td>\n",
              "      <td>33759.000000</td>\n",
              "      <td>33759.000000</td>\n",
              "      <td>33759.000000</td>\n",
              "      <td>33759.000000</td>\n",
              "      <td>33759.000000</td>\n",
              "      <td>33759.000000</td>\n",
              "      <td>33759.000000</td>\n",
              "    </tr>\n",
              "    <tr>\n",
              "      <th>mean</th>\n",
              "      <td>23186.502044</td>\n",
              "      <td>-0.210769</td>\n",
              "      <td>0.090212</td>\n",
              "      <td>0.718086</td>\n",
              "      <td>0.205183</td>\n",
              "      <td>-0.215343</td>\n",
              "      <td>0.092961</td>\n",
              "      <td>-0.118041</td>\n",
              "      <td>0.031774</td>\n",
              "      <td>0.285485</td>\n",
              "      <td>-0.095064</td>\n",
              "      <td>0.471802</td>\n",
              "      <td>-0.580965</td>\n",
              "      <td>0.323908</td>\n",
              "      <td>0.291844</td>\n",
              "      <td>0.074456</td>\n",
              "      <td>-0.000304</td>\n",
              "      <td>0.174986</td>\n",
              "      <td>-0.086865</td>\n",
              "      <td>-0.037042</td>\n",
              "      <td>0.044957</td>\n",
              "      <td>-0.031917</td>\n",
              "      <td>-0.042490</td>\n",
              "      <td>0.008641</td>\n",
              "      <td>0.135181</td>\n",
              "      <td>0.021953</td>\n",
              "      <td>0.012227</td>\n",
              "      <td>0.003599</td>\n",
              "      <td>83.034366</td>\n",
              "      <td>0.003051</td>\n",
              "    </tr>\n",
              "    <tr>\n",
              "      <th>std</th>\n",
              "      <td>12310.554703</td>\n",
              "      <td>1.849230</td>\n",
              "      <td>1.545474</td>\n",
              "      <td>1.565917</td>\n",
              "      <td>1.413512</td>\n",
              "      <td>1.397150</td>\n",
              "      <td>1.312452</td>\n",
              "      <td>1.270591</td>\n",
              "      <td>1.257190</td>\n",
              "      <td>1.243503</td>\n",
              "      <td>1.142746</td>\n",
              "      <td>1.143182</td>\n",
              "      <td>1.438046</td>\n",
              "      <td>1.167647</td>\n",
              "      <td>1.183252</td>\n",
              "      <td>0.957799</td>\n",
              "      <td>0.937097</td>\n",
              "      <td>1.088030</td>\n",
              "      <td>0.857793</td>\n",
              "      <td>0.814637</td>\n",
              "      <td>0.671623</td>\n",
              "      <td>0.778003</td>\n",
              "      <td>0.544158</td>\n",
              "      <td>0.591997</td>\n",
              "      <td>0.435728</td>\n",
              "      <td>0.507048</td>\n",
              "      <td>0.388694</td>\n",
              "      <td>0.303696</td>\n",
              "      <td>227.868983</td>\n",
              "      <td>0.055153</td>\n",
              "    </tr>\n",
              "    <tr>\n",
              "      <th>min</th>\n",
              "      <td>0.000000</td>\n",
              "      <td>-30.552380</td>\n",
              "      <td>-40.978852</td>\n",
              "      <td>-31.103685</td>\n",
              "      <td>-5.172595</td>\n",
              "      <td>-42.147898</td>\n",
              "      <td>-23.496714</td>\n",
              "      <td>-26.548144</td>\n",
              "      <td>-41.484823</td>\n",
              "      <td>-7.175097</td>\n",
              "      <td>-14.166795</td>\n",
              "      <td>-2.981121</td>\n",
              "      <td>-17.769143</td>\n",
              "      <td>-3.588761</td>\n",
              "      <td>-19.214325</td>\n",
              "      <td>-4.152532</td>\n",
              "      <td>-12.227189</td>\n",
              "      <td>-18.587366</td>\n",
              "      <td>-8.061208</td>\n",
              "      <td>-4.932733</td>\n",
              "      <td>-13.694584</td>\n",
              "      <td>-20.262054</td>\n",
              "      <td>-26.751119</td>\n",
              "      <td>-2.836627</td>\n",
              "      <td>-7.495741</td>\n",
              "      <td>-1.338556</td>\n",
              "      <td>-8.567638</td>\n",
              "      <td>-9.617915</td>\n",
              "      <td>0.000000</td>\n",
              "      <td>0.000000</td>\n",
              "    </tr>\n",
              "    <tr>\n",
              "      <th>25%</th>\n",
              "      <td>11323.250000</td>\n",
              "      <td>-0.957639</td>\n",
              "      <td>-0.480557</td>\n",
              "      <td>0.248743</td>\n",
              "      <td>-0.705571</td>\n",
              "      <td>-0.813268</td>\n",
              "      <td>-0.646448</td>\n",
              "      <td>-0.598428</td>\n",
              "      <td>-0.156904</td>\n",
              "      <td>-0.504769</td>\n",
              "      <td>-0.574075</td>\n",
              "      <td>-0.350302</td>\n",
              "      <td>-1.635635</td>\n",
              "      <td>-0.474285</td>\n",
              "      <td>-0.234866</td>\n",
              "      <td>-0.486286</td>\n",
              "      <td>-0.489338</td>\n",
              "      <td>-0.322042</td>\n",
              "      <td>-0.559465</td>\n",
              "      <td>-0.527778</td>\n",
              "      <td>-0.160852</td>\n",
              "      <td>-0.241145</td>\n",
              "      <td>-0.177751</td>\n",
              "      <td>-0.325370</td>\n",
              "      <td>-0.128167</td>\n",
              "      <td>-0.331954</td>\n",
              "      <td>-0.062816</td>\n",
              "      <td>-0.007200</td>\n",
              "      <td>6.905000</td>\n",
              "      <td>0.000000</td>\n",
              "    </tr>\n",
              "    <tr>\n",
              "      <th>50%</th>\n",
              "      <td>28260.500000</td>\n",
              "      <td>-0.240862</td>\n",
              "      <td>0.125560</td>\n",
              "      <td>0.834797</td>\n",
              "      <td>0.194608</td>\n",
              "      <td>-0.251247</td>\n",
              "      <td>-0.165186</td>\n",
              "      <td>-0.072077</td>\n",
              "      <td>0.041389</td>\n",
              "      <td>0.164850</td>\n",
              "      <td>-0.148489</td>\n",
              "      <td>0.447906</td>\n",
              "      <td>-0.204428</td>\n",
              "      <td>0.251831</td>\n",
              "      <td>0.240706</td>\n",
              "      <td>0.198631</td>\n",
              "      <td>0.063443</td>\n",
              "      <td>0.120663</td>\n",
              "      <td>-0.068274</td>\n",
              "      <td>-0.036509</td>\n",
              "      <td>-0.022156</td>\n",
              "      <td>-0.084376</td>\n",
              "      <td>-0.051504</td>\n",
              "      <td>0.062636</td>\n",
              "      <td>0.174733</td>\n",
              "      <td>-0.061390</td>\n",
              "      <td>0.009070</td>\n",
              "      <td>0.021002</td>\n",
              "      <td>21.000000</td>\n",
              "      <td>0.000000</td>\n",
              "    </tr>\n",
              "    <tr>\n",
              "      <th>75%</th>\n",
              "      <td>33557.250000</td>\n",
              "      <td>1.162820</td>\n",
              "      <td>0.767388</td>\n",
              "      <td>1.460421</td>\n",
              "      <td>1.089341</td>\n",
              "      <td>0.303673</td>\n",
              "      <td>0.479350</td>\n",
              "      <td>0.439445</td>\n",
              "      <td>0.303476</td>\n",
              "      <td>1.025500</td>\n",
              "      <td>0.350293</td>\n",
              "      <td>1.247958</td>\n",
              "      <td>0.443449</td>\n",
              "      <td>1.104964</td>\n",
              "      <td>0.980463</td>\n",
              "      <td>0.754840</td>\n",
              "      <td>0.560614</td>\n",
              "      <td>0.615998</td>\n",
              "      <td>0.410285</td>\n",
              "      <td>0.471190</td>\n",
              "      <td>0.165501</td>\n",
              "      <td>0.091394</td>\n",
              "      <td>0.075396</td>\n",
              "      <td>0.398457</td>\n",
              "      <td>0.420014</td>\n",
              "      <td>0.301171</td>\n",
              "      <td>0.088390</td>\n",
              "      <td>0.076330</td>\n",
              "      <td>75.000000</td>\n",
              "      <td>0.000000</td>\n",
              "    </tr>\n",
              "    <tr>\n",
              "      <th>max</th>\n",
              "      <td>37373.000000</td>\n",
              "      <td>1.960497</td>\n",
              "      <td>16.713389</td>\n",
              "      <td>4.101716</td>\n",
              "      <td>13.143668</td>\n",
              "      <td>34.099309</td>\n",
              "      <td>22.529298</td>\n",
              "      <td>36.677268</td>\n",
              "      <td>20.007208</td>\n",
              "      <td>10.392889</td>\n",
              "      <td>12.701539</td>\n",
              "      <td>12.018913</td>\n",
              "      <td>4.846452</td>\n",
              "      <td>4.465413</td>\n",
              "      <td>7.692209</td>\n",
              "      <td>3.635042</td>\n",
              "      <td>6.098529</td>\n",
              "      <td>9.253526</td>\n",
              "      <td>4.295648</td>\n",
              "      <td>4.555359</td>\n",
              "      <td>17.281859</td>\n",
              "      <td>22.614889</td>\n",
              "      <td>13.876221</td>\n",
              "      <td>4.014444</td>\n",
              "      <td>5.525093</td>\n",
              "      <td>3.517346</td>\n",
              "      <td>11.135740</td>\n",
              "      <td>5.678671</td>\n",
              "      <td>7879.420000</td>\n",
              "      <td>1.000000</td>\n",
              "    </tr>\n",
              "  </tbody>\n",
              "</table>\n",
              "</div>"
            ],
            "text/plain": [
              "               Time            V1  ...        Amount         Class\n",
              "count  33760.000000  33760.000000  ...  33759.000000  33759.000000\n",
              "mean   23186.502044     -0.210769  ...     83.034366      0.003051\n",
              "std    12310.554703      1.849230  ...    227.868983      0.055153\n",
              "min        0.000000    -30.552380  ...      0.000000      0.000000\n",
              "25%    11323.250000     -0.957639  ...      6.905000      0.000000\n",
              "50%    28260.500000     -0.240862  ...     21.000000      0.000000\n",
              "75%    33557.250000      1.162820  ...     75.000000      0.000000\n",
              "max    37373.000000      1.960497  ...   7879.420000      1.000000\n",
              "\n",
              "[8 rows x 30 columns]"
            ]
          },
          "metadata": {
            "tags": []
          },
          "execution_count": 39
        }
      ]
    },
    {
      "cell_type": "code",
      "metadata": {
        "colab": {
          "base_uri": "https://localhost:8080/"
        },
        "id": "bjiImOYZVO5g",
        "outputId": "63f78f72-7abc-4ab7-abaa-fc53157ae3cc"
      },
      "source": [
        "# shape of dataframe\n",
        "card.shape"
      ],
      "execution_count": 40,
      "outputs": [
        {
          "output_type": "execute_result",
          "data": {
            "text/plain": [
              "(33760, 31)"
            ]
          },
          "metadata": {
            "tags": []
          },
          "execution_count": 40
        }
      ]
    },
    {
      "cell_type": "code",
      "metadata": {
        "colab": {
          "base_uri": "https://localhost:8080/"
        },
        "id": "WiI7ytWFVaFd",
        "outputId": "1330ef6f-41f2-453f-8204-d0df5109b358"
      },
      "source": [
        "# columns name of dataframe\n",
        "card.columns"
      ],
      "execution_count": 41,
      "outputs": [
        {
          "output_type": "execute_result",
          "data": {
            "text/plain": [
              "Index(['Time', 'V1', 'V2', 'V3', 'V4', 'V5', 'V6', 'V7', 'V8', 'V9', 'V10',\n",
              "       'V11', 'V12', 'V13', 'V14', 'V15', 'V16', 'V17', 'V18', 'V19', 'V20',\n",
              "       'V21', 'V22', 'V23', 'V24', 'V25', 'V26', 'V27', 'V28', 'Amount',\n",
              "       'Class'],\n",
              "      dtype='object')"
            ]
          },
          "metadata": {
            "tags": []
          },
          "execution_count": 41
        }
      ]
    },
    {
      "cell_type": "code",
      "metadata": {
        "colab": {
          "base_uri": "https://localhost:8080/"
        },
        "id": "ABnypXmQVhYl",
        "outputId": "4b48eb59-da56-4576-89d0-831c7b2e347f"
      },
      "source": [
        "card.isna().sum()"
      ],
      "execution_count": 42,
      "outputs": [
        {
          "output_type": "execute_result",
          "data": {
            "text/plain": [
              "Time      0\n",
              "V1        0\n",
              "V2        0\n",
              "V3        0\n",
              "V4        0\n",
              "V5        0\n",
              "V6        0\n",
              "V7        0\n",
              "V8        0\n",
              "V9        0\n",
              "V10       0\n",
              "V11       0\n",
              "V12       0\n",
              "V13       0\n",
              "V14       0\n",
              "V15       0\n",
              "V16       0\n",
              "V17       0\n",
              "V18       0\n",
              "V19       0\n",
              "V20       0\n",
              "V21       0\n",
              "V22       0\n",
              "V23       1\n",
              "V24       1\n",
              "V25       1\n",
              "V26       1\n",
              "V27       1\n",
              "V28       1\n",
              "Amount    1\n",
              "Class     1\n",
              "dtype: int64"
            ]
          },
          "metadata": {
            "tags": []
          },
          "execution_count": 42
        }
      ]
    },
    {
      "cell_type": "code",
      "metadata": {
        "colab": {
          "base_uri": "https://localhost:8080/"
        },
        "id": "t2ToiLq8VrsV",
        "outputId": "e8b5fdcf-d0ca-4aad-a1e6-dd140e512778"
      },
      "source": [
        "# check null values of dataframe\n",
        "card.isnull().any()"
      ],
      "execution_count": 43,
      "outputs": [
        {
          "output_type": "execute_result",
          "data": {
            "text/plain": [
              "Time      False\n",
              "V1        False\n",
              "V2        False\n",
              "V3        False\n",
              "V4        False\n",
              "V5        False\n",
              "V6        False\n",
              "V7        False\n",
              "V8        False\n",
              "V9        False\n",
              "V10       False\n",
              "V11       False\n",
              "V12       False\n",
              "V13       False\n",
              "V14       False\n",
              "V15       False\n",
              "V16       False\n",
              "V17       False\n",
              "V18       False\n",
              "V19       False\n",
              "V20       False\n",
              "V21       False\n",
              "V22       False\n",
              "V23        True\n",
              "V24        True\n",
              "V25        True\n",
              "V26        True\n",
              "V27        True\n",
              "V28        True\n",
              "Amount     True\n",
              "Class      True\n",
              "dtype: bool"
            ]
          },
          "metadata": {
            "tags": []
          },
          "execution_count": 43
        }
      ]
    },
    {
      "cell_type": "code",
      "metadata": {
        "colab": {
          "base_uri": "https://localhost:8080/"
        },
        "id": "T0dwqZz5V0D4",
        "outputId": "d3e95e13-86b6-4529-c910-75332c4933e2"
      },
      "source": [
        "# check duplicated values in dataframe\n",
        "card.duplicated().any()"
      ],
      "execution_count": 44,
      "outputs": [
        {
          "output_type": "execute_result",
          "data": {
            "text/plain": [
              "True"
            ]
          },
          "metadata": {
            "tags": []
          },
          "execution_count": 44
        }
      ]
    },
    {
      "cell_type": "code",
      "metadata": {
        "id": "dejKqZwYV7wq"
      },
      "source": [
        "# drop duplicated values \n",
        "card.drop_duplicates(inplace=True)"
      ],
      "execution_count": 45,
      "outputs": []
    },
    {
      "cell_type": "code",
      "metadata": {
        "colab": {
          "base_uri": "https://localhost:8080/"
        },
        "id": "3c0TJy-mWFZA",
        "outputId": "d6d4deda-3534-4ac7-87be-498fcf3081a6"
      },
      "source": [
        "# check duplicated values again\n",
        "card.duplicated().any()"
      ],
      "execution_count": 46,
      "outputs": [
        {
          "output_type": "execute_result",
          "data": {
            "text/plain": [
              "False"
            ]
          },
          "metadata": {
            "tags": []
          },
          "execution_count": 46
        }
      ]
    },
    {
      "cell_type": "code",
      "metadata": {
        "colab": {
          "base_uri": "https://localhost:8080/"
        },
        "id": "rZNV0wNAWM1P",
        "outputId": "0e2aa976-e4cd-404f-a7b6-9fe3fd068ea1"
      },
      "source": [
        "# check again dataframe shape\n",
        "card.shape"
      ],
      "execution_count": 47,
      "outputs": [
        {
          "output_type": "execute_result",
          "data": {
            "text/plain": [
              "(33623, 31)"
            ]
          },
          "metadata": {
            "tags": []
          },
          "execution_count": 47
        }
      ]
    },
    {
      "cell_type": "code",
      "metadata": {
        "id": "62_8CHPCWU_E"
      },
      "source": [
        "# dataframe spliting into Data(X) & label (Y)\n",
        "data=card.iloc[:,:30]\n",
        "label=card.iloc[:,-1]"
      ],
      "execution_count": 48,
      "outputs": []
    },
    {
      "cell_type": "code",
      "metadata": {
        "colab": {
          "base_uri": "https://localhost:8080/"
        },
        "id": "7KUXGGKEWemX",
        "outputId": "9baf02d9-6c2e-47c2-99f7-f6f2c56907e3"
      },
      "source": [
        "# shape of data \n",
        "print(f\"Shape of data is :{data.shape}\\nShape of label is :{label.shape}\")"
      ],
      "execution_count": 49,
      "outputs": [
        {
          "output_type": "stream",
          "text": [
            "Shape of data is :(33623, 30)\n",
            "Shape of label is :(33623,)\n"
          ],
          "name": "stdout"
        }
      ]
    },
    {
      "cell_type": "code",
      "metadata": {
        "id": "iVZ23k88Wn-e"
      },
      "source": [
        "import sklearn\n",
        "from sklearn.model_selection import train_test_split\n",
        "X_train,X_test,y_train,y_test=train_test_split(data,label,test_size=.30,random_state=1)"
      ],
      "execution_count": 51,
      "outputs": []
    },
    {
      "cell_type": "code",
      "metadata": {
        "colab": {
          "base_uri": "https://localhost:8080/"
        },
        "id": "8NaAjuZLWzQO",
        "outputId": "c613a16b-b770-46bc-a5ad-a5eeeaae5294"
      },
      "source": [
        "# Check the shape of training data,testing data,training labels,testing labels\n",
        "print(f\"shape of training data is :{X_train.shape}\\nshape of training label is :{y_train.shape}\\nshape of testing data is :{X_test.shape}\\nshape of testing label is :{y_test.shape}\")"
      ],
      "execution_count": 52,
      "outputs": [
        {
          "output_type": "stream",
          "text": [
            "shape of training data is :(23536, 30)\n",
            "shape of training label is :(23536,)\n",
            "shape of testing data is :(10087, 30)\n",
            "shape of testing label is :(10087,)\n"
          ],
          "name": "stdout"
        }
      ]
    },
    {
      "cell_type": "code",
      "metadata": {
        "colab": {
          "base_uri": "https://localhost:8080/",
          "height": 439
        },
        "id": "7dZgiBU_W7T5",
        "outputId": "7432f1e5-d290-46de-b6aa-fee10303d92f"
      },
      "source": [
        "X_test"
      ],
      "execution_count": 53,
      "outputs": [
        {
          "output_type": "execute_result",
          "data": {
            "text/html": [
              "<div>\n",
              "<style scoped>\n",
              "    .dataframe tbody tr th:only-of-type {\n",
              "        vertical-align: middle;\n",
              "    }\n",
              "\n",
              "    .dataframe tbody tr th {\n",
              "        vertical-align: top;\n",
              "    }\n",
              "\n",
              "    .dataframe thead th {\n",
              "        text-align: right;\n",
              "    }\n",
              "</style>\n",
              "<table border=\"1\" class=\"dataframe\">\n",
              "  <thead>\n",
              "    <tr style=\"text-align: right;\">\n",
              "      <th></th>\n",
              "      <th>Time</th>\n",
              "      <th>V1</th>\n",
              "      <th>V2</th>\n",
              "      <th>V3</th>\n",
              "      <th>V4</th>\n",
              "      <th>V5</th>\n",
              "      <th>V6</th>\n",
              "      <th>V7</th>\n",
              "      <th>V8</th>\n",
              "      <th>V9</th>\n",
              "      <th>V10</th>\n",
              "      <th>V11</th>\n",
              "      <th>V12</th>\n",
              "      <th>V13</th>\n",
              "      <th>V14</th>\n",
              "      <th>V15</th>\n",
              "      <th>V16</th>\n",
              "      <th>V17</th>\n",
              "      <th>V18</th>\n",
              "      <th>V19</th>\n",
              "      <th>V20</th>\n",
              "      <th>V21</th>\n",
              "      <th>V22</th>\n",
              "      <th>V23</th>\n",
              "      <th>V24</th>\n",
              "      <th>V25</th>\n",
              "      <th>V26</th>\n",
              "      <th>V27</th>\n",
              "      <th>V28</th>\n",
              "      <th>Amount</th>\n",
              "    </tr>\n",
              "  </thead>\n",
              "  <tbody>\n",
              "    <tr>\n",
              "      <th>18616</th>\n",
              "      <td>29640</td>\n",
              "      <td>-0.399547</td>\n",
              "      <td>1.094109</td>\n",
              "      <td>1.171141</td>\n",
              "      <td>-0.190598</td>\n",
              "      <td>0.517747</td>\n",
              "      <td>0.016222</td>\n",
              "      <td>0.576096</td>\n",
              "      <td>0.184250</td>\n",
              "      <td>-0.768179</td>\n",
              "      <td>-0.410095</td>\n",
              "      <td>1.564774</td>\n",
              "      <td>1.054333</td>\n",
              "      <td>0.949240</td>\n",
              "      <td>-0.399201</td>\n",
              "      <td>0.372710</td>\n",
              "      <td>0.340464</td>\n",
              "      <td>-0.133261</td>\n",
              "      <td>-0.093901</td>\n",
              "      <td>-0.041590</td>\n",
              "      <td>0.154888</td>\n",
              "      <td>-0.197305</td>\n",
              "      <td>-0.450638</td>\n",
              "      <td>-0.054424</td>\n",
              "      <td>-0.335143</td>\n",
              "      <td>-0.190967</td>\n",
              "      <td>0.101608</td>\n",
              "      <td>0.264446</td>\n",
              "      <td>0.083088</td>\n",
              "      <td>0.89</td>\n",
              "    </tr>\n",
              "    <tr>\n",
              "      <th>29395</th>\n",
              "      <td>35454</td>\n",
              "      <td>-3.692532</td>\n",
              "      <td>-0.073583</td>\n",
              "      <td>0.215522</td>\n",
              "      <td>0.036928</td>\n",
              "      <td>-1.439595</td>\n",
              "      <td>-0.804291</td>\n",
              "      <td>-0.670331</td>\n",
              "      <td>1.473270</td>\n",
              "      <td>0.195859</td>\n",
              "      <td>-0.437599</td>\n",
              "      <td>0.400481</td>\n",
              "      <td>0.486775</td>\n",
              "      <td>-1.423284</td>\n",
              "      <td>0.967350</td>\n",
              "      <td>-0.643778</td>\n",
              "      <td>0.963550</td>\n",
              "      <td>-0.126603</td>\n",
              "      <td>0.675742</td>\n",
              "      <td>-0.519700</td>\n",
              "      <td>-0.301753</td>\n",
              "      <td>0.177087</td>\n",
              "      <td>0.495107</td>\n",
              "      <td>0.120812</td>\n",
              "      <td>0.577025</td>\n",
              "      <td>0.081133</td>\n",
              "      <td>0.427320</td>\n",
              "      <td>0.270867</td>\n",
              "      <td>-0.379456</td>\n",
              "      <td>12.00</td>\n",
              "    </tr>\n",
              "    <tr>\n",
              "      <th>4260</th>\n",
              "      <td>3755</td>\n",
              "      <td>-1.099826</td>\n",
              "      <td>0.553305</td>\n",
              "      <td>1.852622</td>\n",
              "      <td>-1.890851</td>\n",
              "      <td>-0.508044</td>\n",
              "      <td>0.594835</td>\n",
              "      <td>0.453870</td>\n",
              "      <td>0.196133</td>\n",
              "      <td>-0.235987</td>\n",
              "      <td>-0.061519</td>\n",
              "      <td>2.832101</td>\n",
              "      <td>-2.286658</td>\n",
              "      <td>2.043290</td>\n",
              "      <td>1.177304</td>\n",
              "      <td>-0.713854</td>\n",
              "      <td>0.953607</td>\n",
              "      <td>0.991423</td>\n",
              "      <td>-1.694003</td>\n",
              "      <td>-0.599161</td>\n",
              "      <td>0.287555</td>\n",
              "      <td>-0.172170</td>\n",
              "      <td>-0.193827</td>\n",
              "      <td>-0.026757</td>\n",
              "      <td>-0.376866</td>\n",
              "      <td>0.187845</td>\n",
              "      <td>-0.539118</td>\n",
              "      <td>0.428918</td>\n",
              "      <td>0.133980</td>\n",
              "      <td>115.34</td>\n",
              "    </tr>\n",
              "    <tr>\n",
              "      <th>31006</th>\n",
              "      <td>36171</td>\n",
              "      <td>1.236794</td>\n",
              "      <td>-0.838223</td>\n",
              "      <td>0.329272</td>\n",
              "      <td>-0.868248</td>\n",
              "      <td>-0.926534</td>\n",
              "      <td>-0.219226</td>\n",
              "      <td>-0.682916</td>\n",
              "      <td>0.018911</td>\n",
              "      <td>-0.884162</td>\n",
              "      <td>0.741493</td>\n",
              "      <td>0.857687</td>\n",
              "      <td>-0.170596</td>\n",
              "      <td>0.121011</td>\n",
              "      <td>-0.020187</td>\n",
              "      <td>0.285692</td>\n",
              "      <td>1.732041</td>\n",
              "      <td>-0.319671</td>\n",
              "      <td>-0.670163</td>\n",
              "      <td>1.045340</td>\n",
              "      <td>0.273535</td>\n",
              "      <td>0.047856</td>\n",
              "      <td>-0.208612</td>\n",
              "      <td>-0.070764</td>\n",
              "      <td>-0.359577</td>\n",
              "      <td>0.267617</td>\n",
              "      <td>-0.395104</td>\n",
              "      <td>-0.004430</td>\n",
              "      <td>0.022031</td>\n",
              "      <td>95.66</td>\n",
              "    </tr>\n",
              "    <tr>\n",
              "      <th>10851</th>\n",
              "      <td>18558</td>\n",
              "      <td>1.188398</td>\n",
              "      <td>-0.295145</td>\n",
              "      <td>1.019688</td>\n",
              "      <td>-0.566211</td>\n",
              "      <td>-0.933840</td>\n",
              "      <td>-0.297973</td>\n",
              "      <td>-0.711775</td>\n",
              "      <td>0.006729</td>\n",
              "      <td>3.059944</td>\n",
              "      <td>-1.507062</td>\n",
              "      <td>0.777474</td>\n",
              "      <td>-1.534194</td>\n",
              "      <td>1.855037</td>\n",
              "      <td>1.261795</td>\n",
              "      <td>0.757714</td>\n",
              "      <td>-0.775863</td>\n",
              "      <td>0.850486</td>\n",
              "      <td>-0.019583</td>\n",
              "      <td>-0.010577</td>\n",
              "      <td>-0.163647</td>\n",
              "      <td>-0.126238</td>\n",
              "      <td>0.159888</td>\n",
              "      <td>-0.006119</td>\n",
              "      <td>0.045053</td>\n",
              "      <td>0.409987</td>\n",
              "      <td>-0.697428</td>\n",
              "      <td>0.083379</td>\n",
              "      <td>0.027733</td>\n",
              "      <td>10.60</td>\n",
              "    </tr>\n",
              "    <tr>\n",
              "      <th>...</th>\n",
              "      <td>...</td>\n",
              "      <td>...</td>\n",
              "      <td>...</td>\n",
              "      <td>...</td>\n",
              "      <td>...</td>\n",
              "      <td>...</td>\n",
              "      <td>...</td>\n",
              "      <td>...</td>\n",
              "      <td>...</td>\n",
              "      <td>...</td>\n",
              "      <td>...</td>\n",
              "      <td>...</td>\n",
              "      <td>...</td>\n",
              "      <td>...</td>\n",
              "      <td>...</td>\n",
              "      <td>...</td>\n",
              "      <td>...</td>\n",
              "      <td>...</td>\n",
              "      <td>...</td>\n",
              "      <td>...</td>\n",
              "      <td>...</td>\n",
              "      <td>...</td>\n",
              "      <td>...</td>\n",
              "      <td>...</td>\n",
              "      <td>...</td>\n",
              "      <td>...</td>\n",
              "      <td>...</td>\n",
              "      <td>...</td>\n",
              "      <td>...</td>\n",
              "      <td>...</td>\n",
              "    </tr>\n",
              "    <tr>\n",
              "      <th>14643</th>\n",
              "      <td>25861</td>\n",
              "      <td>1.136687</td>\n",
              "      <td>0.002121</td>\n",
              "      <td>0.246207</td>\n",
              "      <td>1.220701</td>\n",
              "      <td>-0.098532</td>\n",
              "      <td>0.289867</td>\n",
              "      <td>-0.163295</td>\n",
              "      <td>0.257817</td>\n",
              "      <td>0.335021</td>\n",
              "      <td>0.097615</td>\n",
              "      <td>0.551127</td>\n",
              "      <td>0.120446</td>\n",
              "      <td>-2.018261</td>\n",
              "      <td>0.613756</td>\n",
              "      <td>-0.565794</td>\n",
              "      <td>-0.343160</td>\n",
              "      <td>-0.000145</td>\n",
              "      <td>-0.146630</td>\n",
              "      <td>0.057042</td>\n",
              "      <td>-0.280404</td>\n",
              "      <td>-0.090927</td>\n",
              "      <td>-0.158704</td>\n",
              "      <td>-0.095844</td>\n",
              "      <td>-0.338192</td>\n",
              "      <td>0.612676</td>\n",
              "      <td>-0.304048</td>\n",
              "      <td>0.022786</td>\n",
              "      <td>-0.000838</td>\n",
              "      <td>11.99</td>\n",
              "    </tr>\n",
              "    <tr>\n",
              "      <th>23515</th>\n",
              "      <td>32798</td>\n",
              "      <td>-1.444385</td>\n",
              "      <td>0.197976</td>\n",
              "      <td>1.126451</td>\n",
              "      <td>0.170140</td>\n",
              "      <td>0.015102</td>\n",
              "      <td>0.117478</td>\n",
              "      <td>0.158056</td>\n",
              "      <td>0.777154</td>\n",
              "      <td>-0.531638</td>\n",
              "      <td>-0.747667</td>\n",
              "      <td>0.482606</td>\n",
              "      <td>-0.152369</td>\n",
              "      <td>-1.579706</td>\n",
              "      <td>0.922955</td>\n",
              "      <td>0.182919</td>\n",
              "      <td>0.715343</td>\n",
              "      <td>-0.664826</td>\n",
              "      <td>0.717460</td>\n",
              "      <td>-1.144174</td>\n",
              "      <td>-0.013056</td>\n",
              "      <td>0.460638</td>\n",
              "      <td>0.749087</td>\n",
              "      <td>0.016717</td>\n",
              "      <td>-0.348622</td>\n",
              "      <td>-0.018173</td>\n",
              "      <td>-0.382333</td>\n",
              "      <td>-0.021005</td>\n",
              "      <td>-0.014074</td>\n",
              "      <td>112.00</td>\n",
              "    </tr>\n",
              "    <tr>\n",
              "      <th>6947</th>\n",
              "      <td>9028</td>\n",
              "      <td>-5.311325</td>\n",
              "      <td>0.226306</td>\n",
              "      <td>-0.711939</td>\n",
              "      <td>0.897147</td>\n",
              "      <td>-0.157203</td>\n",
              "      <td>-1.674941</td>\n",
              "      <td>-0.989897</td>\n",
              "      <td>1.257261</td>\n",
              "      <td>1.839282</td>\n",
              "      <td>0.344494</td>\n",
              "      <td>0.858541</td>\n",
              "      <td>-2.274796</td>\n",
              "      <td>1.214376</td>\n",
              "      <td>1.664544</td>\n",
              "      <td>0.754410</td>\n",
              "      <td>0.621217</td>\n",
              "      <td>1.540057</td>\n",
              "      <td>-0.374131</td>\n",
              "      <td>-0.504372</td>\n",
              "      <td>-1.975322</td>\n",
              "      <td>-1.197472</td>\n",
              "      <td>-0.526393</td>\n",
              "      <td>2.068456</td>\n",
              "      <td>0.303329</td>\n",
              "      <td>0.564604</td>\n",
              "      <td>0.213824</td>\n",
              "      <td>1.064833</td>\n",
              "      <td>-0.709296</td>\n",
              "      <td>9.83</td>\n",
              "    </tr>\n",
              "    <tr>\n",
              "      <th>30492</th>\n",
              "      <td>35953</td>\n",
              "      <td>-1.095051</td>\n",
              "      <td>-0.389532</td>\n",
              "      <td>1.440527</td>\n",
              "      <td>-0.459400</td>\n",
              "      <td>-0.954023</td>\n",
              "      <td>-0.233431</td>\n",
              "      <td>-0.110326</td>\n",
              "      <td>0.592146</td>\n",
              "      <td>0.499220</td>\n",
              "      <td>-1.401036</td>\n",
              "      <td>-0.479658</td>\n",
              "      <td>1.304324</td>\n",
              "      <td>0.991041</td>\n",
              "      <td>-0.550757</td>\n",
              "      <td>-0.910282</td>\n",
              "      <td>-0.166814</td>\n",
              "      <td>0.335328</td>\n",
              "      <td>-1.169614</td>\n",
              "      <td>-0.780470</td>\n",
              "      <td>0.200515</td>\n",
              "      <td>0.071209</td>\n",
              "      <td>-0.0573402</td>\n",
              "      <td>0.466539</td>\n",
              "      <td>0.469916</td>\n",
              "      <td>-0.425898</td>\n",
              "      <td>0.732541</td>\n",
              "      <td>-0.190738</td>\n",
              "      <td>-0.157249</td>\n",
              "      <td>144.49</td>\n",
              "    </tr>\n",
              "    <tr>\n",
              "      <th>31151</th>\n",
              "      <td>36234</td>\n",
              "      <td>0.931617</td>\n",
              "      <td>-0.070145</td>\n",
              "      <td>0.175233</td>\n",
              "      <td>1.083574</td>\n",
              "      <td>0.021882</td>\n",
              "      <td>0.140354</td>\n",
              "      <td>0.191684</td>\n",
              "      <td>0.052119</td>\n",
              "      <td>-0.385242</td>\n",
              "      <td>0.096941</td>\n",
              "      <td>1.350276</td>\n",
              "      <td>1.167129</td>\n",
              "      <td>0.485042</td>\n",
              "      <td>0.496753</td>\n",
              "      <td>0.430055</td>\n",
              "      <td>0.164179</td>\n",
              "      <td>-0.566784</td>\n",
              "      <td>-0.222828</td>\n",
              "      <td>-0.318482</td>\n",
              "      <td>0.126959</td>\n",
              "      <td>-0.038568</td>\n",
              "      <td>-0.359142</td>\n",
              "      <td>-0.088529</td>\n",
              "      <td>-0.313744</td>\n",
              "      <td>0.378769</td>\n",
              "      <td>-0.518641</td>\n",
              "      <td>0.009797</td>\n",
              "      <td>0.031796</td>\n",
              "      <td>126.71</td>\n",
              "    </tr>\n",
              "  </tbody>\n",
              "</table>\n",
              "<p>10087 rows × 30 columns</p>\n",
              "</div>"
            ],
            "text/plain": [
              "        Time        V1        V2  ...       V27       V28  Amount\n",
              "18616  29640 -0.399547  1.094109  ...  0.264446  0.083088    0.89\n",
              "29395  35454 -3.692532 -0.073583  ...  0.270867 -0.379456   12.00\n",
              "4260    3755 -1.099826  0.553305  ...  0.428918  0.133980  115.34\n",
              "31006  36171  1.236794 -0.838223  ... -0.004430  0.022031   95.66\n",
              "10851  18558  1.188398 -0.295145  ...  0.083379  0.027733   10.60\n",
              "...      ...       ...       ...  ...       ...       ...     ...\n",
              "14643  25861  1.136687  0.002121  ...  0.022786 -0.000838   11.99\n",
              "23515  32798 -1.444385  0.197976  ... -0.021005 -0.014074  112.00\n",
              "6947    9028 -5.311325  0.226306  ...  1.064833 -0.709296    9.83\n",
              "30492  35953 -1.095051 -0.389532  ... -0.190738 -0.157249  144.49\n",
              "31151  36234  0.931617 -0.070145  ...  0.009797  0.031796  126.71\n",
              "\n",
              "[10087 rows x 30 columns]"
            ]
          },
          "metadata": {
            "tags": []
          },
          "execution_count": 53
        }
      ]
    },
    {
      "cell_type": "code",
      "metadata": {
        "id": "EcQqHtkOXDsy"
      },
      "source": [
        "mean = X_train.mean(axis=0)\n",
        "X_train -= mean\n",
        "std = X_train.std(axis=0)\n",
        "X_train /= std\n",
        "X_test -= mean\n",
        "X_test /= std"
      ],
      "execution_count": 54,
      "outputs": []
    },
    {
      "cell_type": "code",
      "metadata": {
        "id": "nQkcWre7XKWU"
      },
      "source": [
        "X_train= np.asarray(X_train).astype('float32')\n",
        "X_test= np.asarray(X_test).astype('float32')\n",
        "y_test=np.asarray(y_test).astype(\"float32\")\n",
        "y_train=np.asarray(y_train).astype(\"float32\")"
      ],
      "execution_count": 66,
      "outputs": []
    },
    {
      "cell_type": "code",
      "metadata": {
        "id": "UbHZFtHrXS16"
      },
      "source": [
        "val_x=X_train[:100000]\n",
        "partial_x_train=X_train[100000:]\n",
        "val_y=y_train[:100000]\n",
        "partial_y_train=y_train[100000:]"
      ],
      "execution_count": 56,
      "outputs": []
    },
    {
      "cell_type": "code",
      "metadata": {
        "id": "f2wzrBiCXUZm"
      },
      "source": [
        "from keras import models, layers , optimizers"
      ],
      "execution_count": 57,
      "outputs": []
    },
    {
      "cell_type": "code",
      "metadata": {
        "id": "SyqKNuMLXiC0"
      },
      "source": [
        "network=models.Sequential()\n",
        "network.add(layers.Dense(6,activation=\"tanh\",input_shape=(X_train.shape[1],)))\n",
        "network.add(layers.Dense(4,activation=\"tanh\"))\n",
        "network.add(layers.Dense(1,activation=\"sigmoid\"))"
      ],
      "execution_count": 67,
      "outputs": []
    },
    {
      "cell_type": "code",
      "metadata": {
        "colab": {
          "base_uri": "https://localhost:8080/"
        },
        "id": "sP5qHRDNXmfn",
        "outputId": "84b2e00c-da83-4c02-d3bb-b0704a038082"
      },
      "source": [
        "network.summary()"
      ],
      "execution_count": 59,
      "outputs": [
        {
          "output_type": "stream",
          "text": [
            "Model: \"sequential_1\"\n",
            "_________________________________________________________________\n",
            "Layer (type)                 Output Shape              Param #   \n",
            "=================================================================\n",
            "dense_4 (Dense)              (None, 6)                 186       \n",
            "_________________________________________________________________\n",
            "dense_5 (Dense)              (None, 4)                 28        \n",
            "_________________________________________________________________\n",
            "dense_6 (Dense)              (None, 1)                 5         \n",
            "=================================================================\n",
            "Total params: 219\n",
            "Trainable params: 219\n",
            "Non-trainable params: 0\n",
            "_________________________________________________________________\n"
          ],
          "name": "stdout"
        }
      ]
    },
    {
      "cell_type": "code",
      "metadata": {
        "id": "TETlRWy2XtM8"
      },
      "source": [
        "network.compile(optimizer=\"adam\", loss=\"binary_crossentropy\",metrics=['accuracy'])"
      ],
      "execution_count": 62,
      "outputs": []
    },
    {
      "cell_type": "code",
      "metadata": {
        "id": "7FsYN-yEZaSS"
      },
      "source": [
        ""
      ],
      "execution_count": null,
      "outputs": []
    },
    {
      "cell_type": "code",
      "metadata": {
        "colab": {
          "base_uri": "https://localhost:8080/"
        },
        "id": "gnRJIqIJYWTl",
        "outputId": "11dbab4a-d99b-47b2-c1c2-ad48daea0502"
      },
      "source": [
        "history_dict=history.history\n",
        "history_dict.keys()\n",
        "[u\"loss\",u\"accuracy\",u\"val_loss\",u\"val_accuracy\"]"
      ],
      "execution_count": 69,
      "outputs": [
        {
          "output_type": "execute_result",
          "data": {
            "text/plain": [
              "['loss', 'accuracy', 'val_loss', 'val_accuracy']"
            ]
          },
          "metadata": {
            "tags": []
          },
          "execution_count": 69
        }
      ]
    },
    {
      "cell_type": "code",
      "metadata": {
        "colab": {
          "base_uri": "https://localhost:8080/",
          "height": 297
        },
        "id": "NeGOZqXqY30e",
        "outputId": "c4c0d99a-6776-4e3d-adc9-5eaf1852196d"
      },
      "source": [
        "loss = history_dict['loss']\n",
        "val_loss = history_dict['val_loss']\n",
        "epochs = range(1, len(loss) + 1)\n",
        "plt.plot(epochs, loss,\"go\",label='Training loss')\n",
        "plt.plot(epochs, val_loss, 'r', label='Validation loss')\n",
        "plt.title('Training and validation loss')\n",
        "plt.xlabel('Epochs')\n",
        "plt.ylabel('Loss')\n",
        "plt.legend()\n",
        "plt.grid()\n",
        "plt.show()"
      ],
      "execution_count": 70,
      "outputs": [
        {
          "output_type": "display_data",
          "data": {
            "image/png": "[encoded data removed]",
            "text/plain": [
              "<Figure size 432x288 with 1 Axes>"
            ]
          },
          "metadata": {
            "tags": []
          }
        }
      ]
    }
  ]
}